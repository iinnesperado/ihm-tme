{
 "cells": [
  {
   "cell_type": "markdown",
   "metadata": {
    "vscode": {
     "languageId": "plaintext"
    }
   },
   "source": [
    "# TME visualisation de données\n",
    "\n",
    "**Auteur :** François Bouchet\n",
    "\n",
    "**Durée :** 2h\n",
    "\n",
    "**Binome :** Ines Rahaoui et Inés Tian Ruiz-Bravo Plovins"
   ]
  },
  {
   "cell_type": "code",
   "execution_count": 1,
   "metadata": {},
   "outputs": [],
   "source": [
    "import matplotlib.pyplot as plt\n",
    "import seaborn as sns\n",
    "import plotly.express as px\n",
    "import numpy as np"
   ]
  },
  {
   "cell_type": "markdown",
   "metadata": {},
   "source": [
    "## Partie 1 : les bases avec matplotlib (1h15)"
   ]
  },
  {
   "cell_type": "markdown",
   "metadata": {},
   "source": [
    "### 1.1. Chargement des données (5 minutes)"
   ]
  },
  {
   "cell_type": "markdown",
   "metadata": {},
   "source": [
    "Dans ce TME, nous allons nous appuyer sur un jeu de données fourni avec une des bibliothèques chargées initialement (seaborn), à savoir le dataset nommé `penguins`. Ce jeu de données propose des mesures de trois espèces de manchots, et inclut les attributs suivants :\n",
    "* nom de l'espèce\n",
    "* île d'observation\n",
    "* longueur du bec\n",
    "* largeur du bec\n",
    "* longueur des ailes\n",
    "* masse\n",
    "* genre"
   ]
  },
  {
   "cell_type": "code",
   "execution_count": 2,
   "metadata": {},
   "outputs": [
    {
     "data": {
      "text/html": [
       "<div>\n",
       "<style scoped>\n",
       "    .dataframe tbody tr th:only-of-type {\n",
       "        vertical-align: middle;\n",
       "    }\n",
       "\n",
       "    .dataframe tbody tr th {\n",
       "        vertical-align: top;\n",
       "    }\n",
       "\n",
       "    .dataframe thead th {\n",
       "        text-align: right;\n",
       "    }\n",
       "</style>\n",
       "<table border=\"1\" class=\"dataframe\">\n",
       "  <thead>\n",
       "    <tr style=\"text-align: right;\">\n",
       "      <th></th>\n",
       "      <th>species</th>\n",
       "      <th>island</th>\n",
       "      <th>bill_length_mm</th>\n",
       "      <th>bill_depth_mm</th>\n",
       "      <th>flipper_length_mm</th>\n",
       "      <th>body_mass_g</th>\n",
       "      <th>sex</th>\n",
       "    </tr>\n",
       "  </thead>\n",
       "  <tbody>\n",
       "    <tr>\n",
       "      <th>0</th>\n",
       "      <td>Adelie</td>\n",
       "      <td>Torgersen</td>\n",
       "      <td>39.1</td>\n",
       "      <td>18.7</td>\n",
       "      <td>181.0</td>\n",
       "      <td>3750.0</td>\n",
       "      <td>Male</td>\n",
       "    </tr>\n",
       "    <tr>\n",
       "      <th>1</th>\n",
       "      <td>Adelie</td>\n",
       "      <td>Torgersen</td>\n",
       "      <td>39.5</td>\n",
       "      <td>17.4</td>\n",
       "      <td>186.0</td>\n",
       "      <td>3800.0</td>\n",
       "      <td>Female</td>\n",
       "    </tr>\n",
       "    <tr>\n",
       "      <th>2</th>\n",
       "      <td>Adelie</td>\n",
       "      <td>Torgersen</td>\n",
       "      <td>40.3</td>\n",
       "      <td>18.0</td>\n",
       "      <td>195.0</td>\n",
       "      <td>3250.0</td>\n",
       "      <td>Female</td>\n",
       "    </tr>\n",
       "    <tr>\n",
       "      <th>3</th>\n",
       "      <td>Adelie</td>\n",
       "      <td>Torgersen</td>\n",
       "      <td>NaN</td>\n",
       "      <td>NaN</td>\n",
       "      <td>NaN</td>\n",
       "      <td>NaN</td>\n",
       "      <td>NaN</td>\n",
       "    </tr>\n",
       "    <tr>\n",
       "      <th>4</th>\n",
       "      <td>Adelie</td>\n",
       "      <td>Torgersen</td>\n",
       "      <td>36.7</td>\n",
       "      <td>19.3</td>\n",
       "      <td>193.0</td>\n",
       "      <td>3450.0</td>\n",
       "      <td>Female</td>\n",
       "    </tr>\n",
       "  </tbody>\n",
       "</table>\n",
       "</div>"
      ],
      "text/plain": [
       "  species     island  bill_length_mm  bill_depth_mm  flipper_length_mm  \\\n",
       "0  Adelie  Torgersen            39.1           18.7              181.0   \n",
       "1  Adelie  Torgersen            39.5           17.4              186.0   \n",
       "2  Adelie  Torgersen            40.3           18.0              195.0   \n",
       "3  Adelie  Torgersen             NaN            NaN                NaN   \n",
       "4  Adelie  Torgersen            36.7           19.3              193.0   \n",
       "\n",
       "   body_mass_g     sex  \n",
       "0       3750.0    Male  \n",
       "1       3800.0  Female  \n",
       "2       3250.0  Female  \n",
       "3          NaN     NaN  \n",
       "4       3450.0  Female  "
      ]
     },
     "execution_count": 2,
     "metadata": {},
     "output_type": "execute_result"
    }
   ],
   "source": [
    "# Chargement\n",
    "penguins = sns.load_dataset(\"penguins\")\n",
    "# Visualisation des premières lignes sous forme de tableau\n",
    "penguins.head()"
   ]
  },
  {
   "cell_type": "markdown",
   "metadata": {},
   "source": [
    "### 1.2. Créer une première figure avec matplotlib (10 minutes)"
   ]
  },
  {
   "cell_type": "code",
   "execution_count": 4,
   "metadata": {},
   "outputs": [
    {
     "data": {
      "image/png": "[encoded data removed]",
      "text/plain": [
       "<Figure size 800x500 with 1 Axes>"
      ]
     },
     "metadata": {},
     "output_type": "display_data"
    }
   ],
   "source": [
    "# Créer une figure de taille 8x5 points, avec 100 points par pouce\n",
    "plt.figure(figsize=(8, 5), dpi=100)\n",
    "\n",
    "# Créer un graphique à une seule zone (de taille 1x1 et sélecteur 1)\n",
    "ax = plt.subplot(111)\n",
    "\n",
    "# Plot bill_length_mm avec comme axe des x les index et comme axe des y les valeurs de bill_length_mm\n",
    "ax.plot(penguins.index, penguins[\"bill_length_mm\"], label=\"Longueur bec (mm)\")\n",
    "\n",
    "# Afficher le résultat à l'écran\n",
    "plt.show()"
   ]
  },
  {
   "cell_type": "markdown",
   "metadata": {},
   "source": [
    "Bleu et orange sont les couleurs choisies en premier  \"par défaut\" de matplotlib. \n",
    "Vous pouvez les changer en utilisant le paramètre `color` de la méthode plot. \n",
    "\n",
    "Choisissez d'autres couleurs (visuellement distinctes) parmi celles disponibles dans la liste suivante, en préfixant son nom par \"xkcd:\" : \n",
    "    https://xkcd.com/color/rgb/\n",
    "    \n",
    "Vous conserverez ces couleurs dans ce même ordre pour tous les graphiques suivants."
   ]
  },
  {
   "cell_type": "markdown",
   "metadata": {},
   "source": [
    "### 1.3. Compléter une figure (30 minutes)"
   ]
  },
  {
   "cell_type": "markdown",
   "metadata": {},
   "source": [
    "L'objectif général est maintenant d'arriver à une figure plus complète telle que celle ci-dessous :\n",
    "\n",
    "<img src=\"./graph1.png\">"
   ]
  },
  {
   "cell_type": "markdown",
   "metadata": {},
   "source": [
    "Pour ce faire, nous allons successivement :\n",
    "* Afficher sur la même figure les largeurs de bec et les longueurs de bec des manchots en ajoutant l'attribut **bill_depth_mm** à notre graphique, à l'aide de la fonction `plot` sur la même figure (1 ligne), en choisissant comme précédemment une couleur xkcd visuellement distincte pour cet attribut\n",
    "* Changer la largeur de la ligne de bill_length_mm à 2 pour la rendre plus visible (1 ligne à modifier) via le paramètre `linewidth`\n",
    "* Ajouter une légende à notre graphique pour identifier les différentes courbes (1 ligne) via la fonction `legend`\n",
    "* Ajouter un titre à notre graphique (1 ligne) via la fonction `set_title`\n",
    "* Ajouter des étiquettes aux axes x et y (2 lignes) via les fonctions `set_xlabel` et `set_ylabel`\n",
    "* Modifier les graduations (ticks) des axes x de 50 en 50 (1 ligne) via la fonction `set_xticks` et y de 10 en 10 (1 ligne) via la fonction `set_yticks`\n",
    "* Ajouter une grille sur l'axe des y via la fonction `grid` (1 ligne) en adaptant éventuellement le style de la ligne (paramètre `linestyle`) et sa transparence (paramètre `alpha`)\n",
    "* Modifier les limites des axes x et y pour que les graduations correspondent aux valeurs des données (2 lignes) via les fonctions `set_xlim` et `set_ylim`\n",
    "* Ajouter une annotation sur le graphique pour pointer une valeur particulière (1 ligne) via la fonction `annotate`, \n",
    "en incluant une flèche à l'aide de l'attribut `arrowprops`"
   ]
  },
  {
   "cell_type": "code",
   "execution_count": 5,
   "metadata": {},
   "outputs": [
    {
     "data": {
      "image/png": "[encoded data removed]",
      "text/plain": [
       "<Figure size 800x500 with 1 Axes>"
      ]
     },
     "metadata": {},
     "output_type": "display_data"
    }
   ],
   "source": [
    "# Créer une figure de taille 8x5 points, avec 100 points par pouce\n",
    "plt.figure(figsize=(8, 5), dpi=100)\n",
    "\n",
    "# Créer un graphique à une seule zone (de taille 1x1 et sélecteur 1)\n",
    "ax = plt.subplot(111)\n",
    "\n",
    "# Plot bill_length_mm avec comme axe des x les index et comme axe des y les valeurs de bill_length_mm\n",
    "ax.plot(penguins.index, penguins[\"bill_length_mm\"], label=\"Longueur bec (mm)\", linewidth=2, c='xkcd:barbie pink')\n",
    "ax.plot(penguins.index, penguins[\"bill_depth_mm\"], label=\"Largeur bec (mm)\", linewidth=1.5, c='xkcd:marine blue')\n",
    "\n",
    "plt.legend()\n",
    "\n",
    "plt.title(\"Longueur et largeur du bec des machots\")\n",
    "plt.xlabel(\"Numéro de l'individu\")\n",
    "plt.ylabel(\"Longueur / largeur du bec (mm)\")\n",
    "\n",
    "\n",
    "xmax = np.max(penguins.index)\n",
    "ymax= np.max(penguins[\"bill_length_mm\"])\n",
    "plt.xticks(np.arange(0, xmax, 50))\n",
    "plt.yticks(np.arange(0, ymax, 10))\n",
    "\n",
    "plt.grid(linestyle='--',axis='y', alpha=0.5)\n",
    "\n",
    "plt.xlim(0, xmax)\n",
    "plt.ylim(0, ymax)\n",
    "\n",
    "plt.annotate('Phénomène étrange ?', xytext=(50,48), arrowprops=dict(facecolor='saddlebrown'), xy=(151,42))\n",
    "plt.annotate('Ici aussi ?', xytext=(150,12), arrowprops=dict(facecolor='saddlebrown'), xy=(219.5,18.5))\n",
    "\n",
    "# Afficher le résultat à l'écran\n",
    "plt.show()"
   ]
  },
  {
   "cell_type": "markdown",
   "metadata": {},
   "source": [
    "<font color=\"red\">**Note importante :** toute figure que vous serez amené à générer dans d'autres UE par la suite **devra** avoir toutes ces informations présentes pour être considérées comme complètes et potentiellement compréhensibles par leur destinataire</font>"
   ]
  },
  {
   "cell_type": "markdown",
   "metadata": {},
   "source": [
    "### 1.4. Sous-figures (15 minutes)"
   ]
  },
  {
   "cell_type": "markdown",
   "metadata": {},
   "source": [
    "Il y a un certain nombre de points discutables dans le graphique précédent. \n",
    "Par exemple, le fait d'avoir relié entre eux des points dont les indices sont consécutifs n'a pas vraiment de sens ici, voire peut être trompeur (cf. les flèches).\n",
    "Par ailleurs, on ne s'est concentré que sur deux variables, alors que le jeu de données en contient d'autres.\n",
    "\n",
    "Idéalement, on voudrait représenter chaque variable sur un graphique séparé, et les comparer entre elles.\n",
    "Matplotlib permet de réaliser cela à l'aide des sous-graphiques (subplots).\n",
    "L'objectif de cette partie est donc de réaliser un graphique contenant plusieurs sous-graphiques, chacun représentant une variable du jeu de données penguins.\n",
    "Le rendu final devrait ressembler à un sous-ensemble de ceci (généré \"automatiquement\" avec une boucle pour itérer sur les espèces et les paramètres - mais ce n'est pas demandé ici !) :\n",
    "\n",
    "<img src=\"graph2.png\">"
   ]
  },
  {
   "cell_type": "markdown",
   "metadata": {},
   "source": [
    "Pour commencer, il faut choisir deux des trois sous-espèces de manchots - c'est facilement faisable en utilisant la syntaxe des DataFrames de la bibliothèque `pandas`, le jeu de données ayant été chargé dans une DataFrame. Mais c'est hors-sujet ici donc voici la syntaxe pour sélectionner par exemple uniquement les manchots Adélie de sexe féminin :"
   ]
  },
  {
   "cell_type": "code",
   "execution_count": 6,
   "metadata": {},
   "outputs": [
    {
     "data": {
      "text/html": [
       "<div>\n",
       "<style scoped>\n",
       "    .dataframe tbody tr th:only-of-type {\n",
       "        vertical-align: middle;\n",
       "    }\n",
       "\n",
       "    .dataframe tbody tr th {\n",
       "        vertical-align: top;\n",
       "    }\n",
       "\n",
       "    .dataframe thead th {\n",
       "        text-align: right;\n",
       "    }\n",
       "</style>\n",
       "<table border=\"1\" class=\"dataframe\">\n",
       "  <thead>\n",
       "    <tr style=\"text-align: right;\">\n",
       "      <th></th>\n",
       "      <th>species</th>\n",
       "      <th>island</th>\n",
       "      <th>bill_length_mm</th>\n",
       "      <th>bill_depth_mm</th>\n",
       "      <th>flipper_length_mm</th>\n",
       "      <th>body_mass_g</th>\n",
       "      <th>sex</th>\n",
       "    </tr>\n",
       "  </thead>\n",
       "  <tbody>\n",
       "    <tr>\n",
       "      <th>1</th>\n",
       "      <td>Adelie</td>\n",
       "      <td>Torgersen</td>\n",
       "      <td>39.5</td>\n",
       "      <td>17.4</td>\n",
       "      <td>186.0</td>\n",
       "      <td>3800.0</td>\n",
       "      <td>Female</td>\n",
       "    </tr>\n",
       "    <tr>\n",
       "      <th>2</th>\n",
       "      <td>Adelie</td>\n",
       "      <td>Torgersen</td>\n",
       "      <td>40.3</td>\n",
       "      <td>18.0</td>\n",
       "      <td>195.0</td>\n",
       "      <td>3250.0</td>\n",
       "      <td>Female</td>\n",
       "    </tr>\n",
       "    <tr>\n",
       "      <th>4</th>\n",
       "      <td>Adelie</td>\n",
       "      <td>Torgersen</td>\n",
       "      <td>36.7</td>\n",
       "      <td>19.3</td>\n",
       "      <td>193.0</td>\n",
       "      <td>3450.0</td>\n",
       "      <td>Female</td>\n",
       "    </tr>\n",
       "    <tr>\n",
       "      <th>6</th>\n",
       "      <td>Adelie</td>\n",
       "      <td>Torgersen</td>\n",
       "      <td>38.9</td>\n",
       "      <td>17.8</td>\n",
       "      <td>181.0</td>\n",
       "      <td>3625.0</td>\n",
       "      <td>Female</td>\n",
       "    </tr>\n",
       "    <tr>\n",
       "      <th>12</th>\n",
       "      <td>Adelie</td>\n",
       "      <td>Torgersen</td>\n",
       "      <td>41.1</td>\n",
       "      <td>17.6</td>\n",
       "      <td>182.0</td>\n",
       "      <td>3200.0</td>\n",
       "      <td>Female</td>\n",
       "    </tr>\n",
       "    <tr>\n",
       "      <th>...</th>\n",
       "      <td>...</td>\n",
       "      <td>...</td>\n",
       "      <td>...</td>\n",
       "      <td>...</td>\n",
       "      <td>...</td>\n",
       "      <td>...</td>\n",
       "      <td>...</td>\n",
       "    </tr>\n",
       "    <tr>\n",
       "      <th>142</th>\n",
       "      <td>Adelie</td>\n",
       "      <td>Dream</td>\n",
       "      <td>32.1</td>\n",
       "      <td>15.5</td>\n",
       "      <td>188.0</td>\n",
       "      <td>3050.0</td>\n",
       "      <td>Female</td>\n",
       "    </tr>\n",
       "    <tr>\n",
       "      <th>144</th>\n",
       "      <td>Adelie</td>\n",
       "      <td>Dream</td>\n",
       "      <td>37.3</td>\n",
       "      <td>16.8</td>\n",
       "      <td>192.0</td>\n",
       "      <td>3000.0</td>\n",
       "      <td>Female</td>\n",
       "    </tr>\n",
       "    <tr>\n",
       "      <th>147</th>\n",
       "      <td>Adelie</td>\n",
       "      <td>Dream</td>\n",
       "      <td>36.6</td>\n",
       "      <td>18.4</td>\n",
       "      <td>184.0</td>\n",
       "      <td>3475.0</td>\n",
       "      <td>Female</td>\n",
       "    </tr>\n",
       "    <tr>\n",
       "      <th>148</th>\n",
       "      <td>Adelie</td>\n",
       "      <td>Dream</td>\n",
       "      <td>36.0</td>\n",
       "      <td>17.8</td>\n",
       "      <td>195.0</td>\n",
       "      <td>3450.0</td>\n",
       "      <td>Female</td>\n",
       "    </tr>\n",
       "    <tr>\n",
       "      <th>150</th>\n",
       "      <td>Adelie</td>\n",
       "      <td>Dream</td>\n",
       "      <td>36.0</td>\n",
       "      <td>17.1</td>\n",
       "      <td>187.0</td>\n",
       "      <td>3700.0</td>\n",
       "      <td>Female</td>\n",
       "    </tr>\n",
       "  </tbody>\n",
       "</table>\n",
       "<p>73 rows × 7 columns</p>\n",
       "</div>"
      ],
      "text/plain": [
       "    species     island  bill_length_mm  bill_depth_mm  flipper_length_mm  \\\n",
       "1    Adelie  Torgersen            39.5           17.4              186.0   \n",
       "2    Adelie  Torgersen            40.3           18.0              195.0   \n",
       "4    Adelie  Torgersen            36.7           19.3              193.0   \n",
       "6    Adelie  Torgersen            38.9           17.8              181.0   \n",
       "12   Adelie  Torgersen            41.1           17.6              182.0   \n",
       "..      ...        ...             ...            ...                ...   \n",
       "142  Adelie      Dream            32.1           15.5              188.0   \n",
       "144  Adelie      Dream            37.3           16.8              192.0   \n",
       "147  Adelie      Dream            36.6           18.4              184.0   \n",
       "148  Adelie      Dream            36.0           17.8              195.0   \n",
       "150  Adelie      Dream            36.0           17.1              187.0   \n",
       "\n",
       "     body_mass_g     sex  \n",
       "1         3800.0  Female  \n",
       "2         3250.0  Female  \n",
       "4         3450.0  Female  \n",
       "6         3625.0  Female  \n",
       "12        3200.0  Female  \n",
       "..           ...     ...  \n",
       "142       3050.0  Female  \n",
       "144       3000.0  Female  \n",
       "147       3475.0  Female  \n",
       "148       3450.0  Female  \n",
       "150       3700.0  Female  \n",
       "\n",
       "[73 rows x 7 columns]"
      ]
     },
     "execution_count": 6,
     "metadata": {},
     "output_type": "execute_result"
    }
   ],
   "source": [
    "penguins[(penguins[\"species\"] == \"Adelie\") & (penguins[\"sex\"] == \"Female\")]"
   ]
  },
  {
   "cell_type": "markdown",
   "metadata": {},
   "source": [
    "Pour rappel, vous allez sélectionner 2 sous-espèces (cf. syntaxe ci-dessus) qui seront représentées sur 2 colonnes, et 2 attributs qui seront représentés sur 2 lignes. \n",
    "Pour ce faire, nous allons repartir (copier-coller) du code précédent et successivement :\n",
    "* Créer des sous-figures pour chaque graphique à l'aide de la méthode `subplots` - le nombre de lignes et de colonnes est à définir, suivi du sélecteur de la sous-figure (tout à 1 sur l'exemple précédent). \n",
    "Après cela, vous devriez pouvoir facilement reproduire la figure initiale en 2 xemplaires pour tester.\n",
    "* Adapter les limites des axes pour chaque sous-figure\n"
   ]
  },
  {
   "cell_type": "code",
   "execution_count": 9,
   "metadata": {},
   "outputs": [
    {
     "data": {
      "image/png": "[encoded data removed]",
      "text/plain": [
       "<Figure size 1000x600 with 4 Axes>"
      ]
     },
     "metadata": {},
     "output_type": "display_data"
    }
   ],
   "source": [
    "adelieF  = penguins[(penguins['species'] == 'Adelie') & (penguins['sex']=='Female')]\n",
    "adelieM  = penguins[(penguins['species'] == 'Adelie') & (penguins['sex']=='Male')]\n",
    "gentooF =  penguins[(penguins['species'] == 'Gentoo') & (penguins['sex']=='Female')]\n",
    "gentooM  = penguins[(penguins['species'] == 'Gentoo') & (penguins['sex']=='Male')]\n",
    "\n",
    "plt.figure(figsize=(10,6), dpi=100)\n",
    "\n",
    "\n",
    "al = plt.subplot(221, facecolor='#EBEBEB')\n",
    "gl = plt.subplot(222, sharey=al, facecolor='#EBEBEB')\n",
    "ad = plt.subplot(223, facecolor='#EBEBEB')\n",
    "gd = plt.subplot(224, sharey=ad, facecolor='#EBEBEB')\n",
    "\n",
    "al.grid(color='white')\n",
    "ad.grid(color='white')\n",
    "gl.grid(color='white')\n",
    "gd.grid(color='white')\n",
    "plt.rc('axes',axisbelow=True)\n",
    "\n",
    "# bill_length_mm\n",
    "al.scatter(adelieF.index, adelieF[\"bill_length_mm\"], label=\"Female\", c='xkcd:barbie pink')\n",
    "al.scatter(adelieM.index, adelieM[\"bill_length_mm\"], label=\"Male\", c='xkcd:marine blue')\n",
    "gl.scatter(gentooF.index, gentooF[\"bill_length_mm\"], label=\"Female\", c='xkcd:barbie pink')\n",
    "gl.scatter(gentooM.index, gentooM[\"bill_length_mm\"], label=\"Male\", c='xkcd:marine blue')\n",
    "# bill_depth_mm\n",
    "ad.scatter(adelieF.index, adelieF[\"bill_depth_mm\"], label=\"Female\", c='xkcd:barbie pink')\n",
    "ad.scatter(adelieM.index, adelieM[\"bill_depth_mm\"], label=\"Male\", c='xkcd:marine blue')\n",
    "gd.scatter(gentooF.index, gentooF[\"bill_depth_mm\"], label=\"Female\", c='xkcd:barbie pink')\n",
    "gd.scatter(gentooM.index, gentooM[\"bill_depth_mm\"], label=\"Male\", c='xkcd:marine blue')\n",
    "\n",
    "gl.tick_params(axis='y',labelleft=False)\n",
    "gd.tick_params(axis='y',labelleft=False)\n",
    "\n",
    "al.legend()\n",
    "gl.legend()\n",
    "ad.legend()\n",
    "gd.legend()\n",
    "\n",
    "al.set_title(\"Adelie\")\n",
    "gl.set_title(\"Gentoo\")\n",
    "\n",
    "ad.set_xlabel(\"Numéro de l'individu\")\n",
    "gd.set_xlabel(\"Numéro de l'individu\")\n",
    "al.set_ylabel(\"Longueur du bec (mm)\")\n",
    "ad.set_ylabel(\"Largeur du bec (mm)\")\n",
    "\n",
    "plt.show()\n",
    "\n"
   ]
  },
  {
   "cell_type": "markdown",
   "metadata": {},
   "source": [
    "### 1.5 Histogrammes (5 minutes)"
   ]
  },
  {
   "cell_type": "markdown",
   "metadata": {},
   "source": [
    "Enfin, bien qu'illustratif et permettant d'explorer les données, la représentation choisie sous forme de graphiques linéaires n'est pas la plus adaptée pour comparer les différentes espèces de manchots. \n",
    "En effet, les graphiques linéaires sont plus adaptés pour représenter des séries temporelles ou des données continues. Pour comparer les différentes espèces de manchots, il serait plus judicieux d'utiliser des graphiques en barres ou des diagrammes en boîte, par exemple. \n",
    "C'est la première option que nous allons explorer dans cette section, pour obtenir un rendu similaire à celui ci-dessous :\n",
    "\n",
    "<img src=\"histo.png\">"
   ]
  },
  {
   "cell_type": "markdown",
   "metadata": {},
   "source": [
    "Utiliser la fonction `hist` après avoir initialisé la figure comme auparavant."
   ]
  },
  {
   "cell_type": "code",
   "execution_count": 8,
   "metadata": {},
   "outputs": [
    {
     "data": {
      "image/png": "[encoded data removed]",
      "text/plain": [
       "<Figure size 800x500 with 1 Axes>"
      ]
     },
     "metadata": {},
     "output_type": "display_data"
    }
   ],
   "source": [
    "plt.figure(figsize=(8,5), dpi=100)\n",
    "\n",
    "length, frec = np.unique(penguins['bill_length_mm'].round(), return_counts=True)\n",
    "ax = plt.subplot(111)\n",
    "ax.hist(penguins['bill_length_mm'], bins=20, color='xkcd:barbie pink', alpha=0.7, edgecolor='white')\n",
    "ax.set_facecolor('#EBEBEB')\n",
    "plt.rc('axes',axisbelow=True)\n",
    "ax.grid(color='white')\n",
    "plt.xlabel(\"Longueur du bec (mm)\")\n",
    "plt.ylabel(\"Fréquence\")\n",
    "\n",
    "plt.show()"
   ]
  },
  {
   "cell_type": "markdown",
   "metadata": {},
   "source": [
    "### 1.6. Nuage de points (10 minutes)"
   ]
  },
  {
   "cell_type": "markdown",
   "metadata": {},
   "source": [
    "Il arrive très souvent que l'on souhaite comparer des distributions de données entre plusieurs groupes, en croisant plusieurs variables.\n",
    "Par exemple, on peut vouloir comparer la longueur du bec des manchots avec la largeur de celui-ci.\n",
    "Pour comparer des distributions de données, on peut utiliser des diagrammes en nuage de points (pair plots), ou, pour une visualisation plus globale des diagrammes de dispersion (scatter plots) qui font tous les croisements deux à deux."
   ]
  },
  {
   "cell_type": "markdown",
   "metadata": {},
   "source": [
    "Pour le nuage de points, nous allons faire appel à la fonction `scatter` de matplotlib qui prend 2 ensembles de données (ici 2 colonnes). Ne pas oublier d'avoir comme précédemment une légende et des axes nommés. L'ajout de transparence, avec la paramètre `alpha` permet de mieux visualiser les zones où les points se chevauchent. La figure devrait ressembler à ceci :\n",
    "\n",
    "<img src=\"scatter.png\">"
   ]
  },
  {
   "cell_type": "code",
   "execution_count": null,
   "metadata": {},
   "outputs": [
    {
     "data": {
      "text/plain": [
       "<matplotlib.collections.PathCollection at 0x12a1f7e20>"
      ]
     },
     "execution_count": 34,
     "metadata": {},
     "output_type": "execute_result"
    },
    {
     "data": {
      "image/png": "[encoded data removed]",
      "text/plain": [
       "<Figure size 600x400 with 1 Axes>"
      ]
     },
     "metadata": {},
     "output_type": "display_data"
    }
   ],
   "source": [
    "plt.figure(figsize=(6,4), dpi=100)\n",
    "ax = plt.subplot(111)\n",
    "plt.title(\"Longueur et largeur du bec chez 3 espèces de manchots\")\n",
    "plt.xlabel(\"Longuer du bec (mm)\")\n",
    "plt.ylabel(\"Largeur du bec (mm)\")\n",
    "plt.rc('axes',axisbelow=True)\n",
    "plt.grid(color=\"white\")\n",
    "ax.set_facecolor(\"#EBEBEB\")\n",
    "ax.scatter(penguins['bill_length_mm'],penguins['bill_depth_mm'], color='xkcd:barbie pink', edgecolors='xkcd:barbie pink', alpha=0.5)\n",
    "\n"
   ]
  },
  {
   "cell_type": "markdown",
   "metadata": {},
   "source": [
    "Note : il serait tout à fait possible de distinguer les couleurs pour chaque espèce, mais c'est un peu compliqué car cela suppose de faire une boucle pour afficher 3 fois dans des couleurs différentes sur le même graphique. On va voir que c'est beaucoup plus simple avec d'autres biblioth_ques."
   ]
  },
  {
   "cell_type": "markdown",
   "metadata": {},
   "source": [
    "## Partie 2 : utilisation de seaborn (10 minutes)"
   ]
  },
  {
   "cell_type": "markdown",
   "metadata": {},
   "source": [
    "\n",
    "Seaborn est une bibliothèque de visualisation de données Python basée sur matplotlib. \n",
    "Elle fournit une interface de haut niveau pour dessiner des visualisations statistiques léchées et informatives.\n",
    "\n",
    "Avantages :\n",
    "* idéal pour des statistiques complexes (e.g. violin plot, heatmap)\n",
    "* simplifie la création de graphiques liés à des DataFrames pandas (e.g. aggrégration de données dans un barplot)\n",
    "\n",
    "Limites : \n",
    "* moins de flexibilité que matplotlib pour de la personnalisation avancée\n",
    "* moins de types de visualisations disponibles\n",
    "* pas d'interactivité (sauf en utilisant des extensions comme seaborn-image)"
   ]
  },
  {
   "cell_type": "markdown",
   "metadata": {},
   "source": [
    "### 2.1. Nuage de points (10 minutes)"
   ]
  },
  {
   "cell_type": "markdown",
   "metadata": {},
   "source": [
    "On se propose ici de reproduire ce qui a été fait précédemment avec matplotlib dans la section 1.6 à savoir un nuage de points qui ressemblera à l'image ci-dessous :\n",
    "\n",
    "<img src=\"scatter_seaborn.png\">"
   ]
  },
  {
   "cell_type": "markdown",
   "metadata": {},
   "source": [
    "Utiliser la fonction `scatterplot` de seaborn (importé au début sous le nom `sns` qui est la convention habituelle). Elle prend en paramètre `data` la Dataframe directement, puis en `x`, `y` et `hue` les noms de colonnes souhaités. Les axes sont labelisés avec les fonctions `xlabel` et `ylabel`."
   ]
  },
  {
   "cell_type": "code",
   "execution_count": 42,
   "metadata": {},
   "outputs": [
    {
     "data": {
      "image/png": "[encoded data removed]",
      "text/plain": [
       "<Figure size 700x500 with 1 Axes>"
      ]
     },
     "metadata": {},
     "output_type": "display_data"
    }
   ],
   "source": [
    "sns.set_theme()  # optionnel, pour changer le style\n",
    "\n",
    "plt.figure(figsize=(7,5), dpi=100)\n",
    "sns.scatterplot(x='flipper_length_mm', y='body_mass_g', hue='species', data=penguins, style='species')\n",
    "plt.title(\"Longueur des ailes vs. Masse corporelle chez 3 espèces de manchots\")\n",
    "plt.xlabel(\"Longueur des ailes (mm)\")\n",
    "plt.ylabel(\"Masse corporelle (g)\")\n",
    "plt.show()\n"
   ]
  },
  {
   "cell_type": "markdown",
   "metadata": {},
   "source": [
    "## Partie 3 : utilisation de plotly (15 minutes)"
   ]
  },
  {
   "cell_type": "markdown",
   "metadata": {},
   "source": [
    "Plotly est une bibliothèque de visualisation de données Python qui produit des visualisations interactives. Il repose sur le framework Javascript `D3.js` et WebGL pour la 3D : est donc indépendant de matplotlib. Ce qui ne pose pas de problème dans le contexte d'un notebook, celui-ci utilisant un moteur de rendu HTML (propre à votre navigateur - ou Chromium, le moteur de Edge et Chrome, si vous utilisez VSCode).\n",
    "\n",
    "Avantages :\n",
    "* visualisations interactives (zoom, tooltip, etc.)\n",
    "* nombreux types de graphiques disponibles, notamment en 3D\n",
    "* export en HTML pour intégration dans des applications web\n",
    "\n",
    "Limites :\n",
    "* pas aussi flexible que matplotlib pour la personnalisation avancée\n",
    "* pas natif Python"
   ]
  },
  {
   "cell_type": "markdown",
   "metadata": {},
   "source": [
    "### 3.1. Reproduction de l'exemple précédent (5 minutes)"
   ]
  },
  {
   "cell_type": "markdown",
   "metadata": {},
   "source": [
    "Même si ce n'est pas le diagramme interactif le plus intéressant, nous souhaitons dans un premier temps reproduire ce que nous venons de faire avec seaborn en utilisant plotly, ne serait-ce que pour voir les quelques différences de syntaxe. Voici le rendu visuel attendu :\n",
    "\n",
    "<img src=\"scatter_plotly.png\">"
   ]
  },
  {
   "cell_type": "markdown",
   "metadata": {},
   "source": [
    "Utiliser la fonction `scatter` de plotly (importé au début sous le nom `px` qui est la convention habituelle). Elle prend en paramètre principal la DataFrame, pour les paramètres `x`, `y` et `color` la même chose que seaborn. On peut rajouter des informations visibles au survol via le paramètres `hover_data`, et le paramètre `label` prend dictionnaire (clé = attribut, valeur = nom à afficher)."
   ]
  },
  {
   "cell_type": "code",
   "execution_count": 3,
   "metadata": {},
   "outputs": [
    {
     "data": {
      "application/vnd.plotly.v1+json": {
       "config": {
        "plotlyServerURL": "https://plot.ly"
       },
       "data": [
        {
         "customdata": [
          [
           "Male",
           39.1,
           "Torgersen"
          ],
          [
           "Female",
           39.5,
           "Torgersen"
          ],
          [
           "Female",
           40.3,
           "Torgersen"
          ],
          [
           null,
           null,
           "Torgersen"
          ],
          [
           "Female",
           36.7,
           "Torgersen"
          ],
          [
           "Male",
           39.3,
           "Torgersen"
          ],
          [
           "Female",
           38.9,
           "Torgersen"
          ],
          [
           "Male",
           39.2,
           "Torgersen"
          ],
          [
           null,
           34.1,
           "Torgersen"
          ],
          [
           null,
           42,
           "Torgersen"
          ],
          [
           null,
           37.8,
           "Torgersen"
          ],
          [
           null,
           37.8,
           "Torgersen"
          ],
          [
           "Female",
           41.1,
           "Torgersen"
          ],
          [
           "Male",
           38.6,
           "Torgersen"
          ],
          [
           "Male",
           34.6,
           "Torgersen"
          ],
          [
           "Female",
           36.6,
           "Torgersen"
          ],
          [
           "Female",
           38.7,
           "Torgersen"
          ],
          [
           "Male",
           42.5,
           "Torgersen"
          ],
          [
           "Female",
           34.4,
           "Torgersen"
          ],
          [
           "Male",
           46,
           "Torgersen"
          ],
          [
           "Female",
           37.8,
           "Biscoe"
          ],
          [
           "Male",
           37.7,
           "Biscoe"
          ],
          [
           "Female",
           35.9,
           "Biscoe"
          ],
          [
           "Male",
           38.2,
           "Biscoe"
          ],
          [
           "Male",
           38.8,
           "Biscoe"
          ],
          [
           "Female",
           35.3,
           "Biscoe"
          ],
          [
           "Male",
           40.6,
           "Biscoe"
          ],
          [
           "Female",
           40.5,
           "Biscoe"
          ],
          [
           "Female",
           37.9,
           "Biscoe"
          ],
          [
           "Male",
           40.5,
           "Biscoe"
          ],
          [
           "Female",
           39.5,
           "Dream"
          ],
          [
           "Male",
           37.2,
           "Dream"
          ],
          [
           "Female",
           39.5,
           "Dream"
          ],
          [
           "Male",
           40.9,
           "Dream"
          ],
          [
           "Female",
           36.4,
           "Dream"
          ],
          [
           "Male",
           39.2,
           "Dream"
          ],
          [
           "Male",
           38.8,
           "Dream"
          ],
          [
           "Female",
           42.2,
           "Dream"
          ],
          [
           "Female",
           37.6,
           "Dream"
          ],
          [
           "Male",
           39.8,
           "Dream"
          ],
          [
           "Female",
           36.5,
           "Dream"
          ],
          [
           "Male",
           40.8,
           "Dream"
          ],
          [
           "Female",
           36,
           "Dream"
          ],
          [
           "Male",
           44.1,
           "Dream"
          ],
          [
           "Female",
           37,
           "Dream"
          ],
          [
           "Male",
           39.6,
           "Dream"
          ],
          [
           "Male",
           41.1,
           "Dream"
          ],
          [
           null,
           37.5,
           "Dream"
          ],
          [
           "Female",
           36,
           "Dream"
          ],
          [
           "Male",
           42.3,
           "Dream"
          ],
          [
           "Female",
           39.6,
           "Biscoe"
          ],
          [
           "Male",
           40.1,
           "Biscoe"
          ],
          [
           "Female",
           35,
           "Biscoe"
          ],
          [
           "Male",
           42,
           "Biscoe"
          ],
          [
           "Female",
           34.5,
           "Biscoe"
          ],
          [
           "Male",
           41.4,
           "Biscoe"
          ],
          [
           "Female",
           39,
           "Biscoe"
          ],
          [
           "Male",
           40.6,
           "Biscoe"
          ],
          [
           "Female",
           36.5,
           "Biscoe"
          ],
          [
           "Male",
           37.6,
           "Biscoe"
          ],
          [
           "Female",
           35.7,
           "Biscoe"
          ],
          [
           "Male",
           41.3,
           "Biscoe"
          ],
          [
           "Female",
           37.6,
           "Biscoe"
          ],
          [
           "Male",
           41.1,
           "Biscoe"
          ],
          [
           "Female",
           36.4,
           "Biscoe"
          ],
          [
           "Male",
           41.6,
           "Biscoe"
          ],
          [
           "Female",
           35.5,
           "Biscoe"
          ],
          [
           "Male",
           41.1,
           "Biscoe"
          ],
          [
           "Female",
           35.9,
           "Torgersen"
          ],
          [
           "Male",
           41.8,
           "Torgersen"
          ],
          [
           "Female",
           33.5,
           "Torgersen"
          ],
          [
           "Male",
           39.7,
           "Torgersen"
          ],
          [
           "Female",
           39.6,
           "Torgersen"
          ],
          [
           "Male",
           45.8,
           "Torgersen"
          ],
          [
           "Female",
           35.5,
           "Torgersen"
          ],
          [
           "Male",
           42.8,
           "Torgersen"
          ],
          [
           "Female",
           40.9,
           "Torgersen"
          ],
          [
           "Male",
           37.2,
           "Torgersen"
          ],
          [
           "Female",
           36.2,
           "Torgersen"
          ],
          [
           "Male",
           42.1,
           "Torgersen"
          ],
          [
           "Female",
           34.6,
           "Torgersen"
          ],
          [
           "Male",
           42.9,
           "Torgersen"
          ],
          [
           "Female",
           36.7,
           "Torgersen"
          ],
          [
           "Male",
           35.1,
           "Torgersen"
          ],
          [
           "Female",
           37.3,
           "Dream"
          ],
          [
           "Male",
           41.3,
           "Dream"
          ],
          [
           "Male",
           36.3,
           "Dream"
          ],
          [
           "Female",
           36.9,
           "Dream"
          ],
          [
           "Male",
           38.3,
           "Dream"
          ],
          [
           "Female",
           38.9,
           "Dream"
          ],
          [
           "Female",
           35.7,
           "Dream"
          ],
          [
           "Male",
           41.1,
           "Dream"
          ],
          [
           "Female",
           34,
           "Dream"
          ],
          [
           "Male",
           39.6,
           "Dream"
          ],
          [
           "Female",
           36.2,
           "Dream"
          ],
          [
           "Male",
           40.8,
           "Dream"
          ],
          [
           "Female",
           38.1,
           "Dream"
          ],
          [
           "Male",
           40.3,
           "Dream"
          ],
          [
           "Female",
           33.1,
           "Dream"
          ],
          [
           "Male",
           43.2,
           "Dream"
          ],
          [
           "Female",
           35,
           "Biscoe"
          ],
          [
           "Male",
           41,
           "Biscoe"
          ],
          [
           "Female",
           37.7,
           "Biscoe"
          ],
          [
           "Male",
           37.8,
           "Biscoe"
          ],
          [
           "Female",
           37.9,
           "Biscoe"
          ],
          [
           "Male",
           39.7,
           "Biscoe"
          ],
          [
           "Female",
           38.6,
           "Biscoe"
          ],
          [
           "Male",
           38.2,
           "Biscoe"
          ],
          [
           "Female",
           38.1,
           "Biscoe"
          ],
          [
           "Male",
           43.2,
           "Biscoe"
          ],
          [
           "Female",
           38.1,
           "Biscoe"
          ],
          [
           "Male",
           45.6,
           "Biscoe"
          ],
          [
           "Female",
           39.7,
           "Biscoe"
          ],
          [
           "Male",
           42.2,
           "Biscoe"
          ],
          [
           "Female",
           39.6,
           "Biscoe"
          ],
          [
           "Male",
           42.7,
           "Biscoe"
          ],
          [
           "Female",
           38.6,
           "Torgersen"
          ],
          [
           "Male",
           37.3,
           "Torgersen"
          ],
          [
           "Female",
           35.7,
           "Torgersen"
          ],
          [
           "Male",
           41.1,
           "Torgersen"
          ],
          [
           "Female",
           36.2,
           "Torgersen"
          ],
          [
           "Male",
           37.7,
           "Torgersen"
          ],
          [
           "Female",
           40.2,
           "Torgersen"
          ],
          [
           "Male",
           41.4,
           "Torgersen"
          ],
          [
           "Female",
           35.2,
           "Torgersen"
          ],
          [
           "Male",
           40.6,
           "Torgersen"
          ],
          [
           "Female",
           38.8,
           "Torgersen"
          ],
          [
           "Male",
           41.5,
           "Torgersen"
          ],
          [
           "Female",
           39,
           "Torgersen"
          ],
          [
           "Male",
           44.1,
           "Torgersen"
          ],
          [
           "Female",
           38.5,
           "Torgersen"
          ],
          [
           "Male",
           43.1,
           "Torgersen"
          ],
          [
           "Female",
           36.8,
           "Dream"
          ],
          [
           "Male",
           37.5,
           "Dream"
          ],
          [
           "Female",
           38.1,
           "Dream"
          ],
          [
           "Male",
           41.1,
           "Dream"
          ],
          [
           "Female",
           35.6,
           "Dream"
          ],
          [
           "Male",
           40.2,
           "Dream"
          ],
          [
           "Female",
           37,
           "Dream"
          ],
          [
           "Male",
           39.7,
           "Dream"
          ],
          [
           "Female",
           40.2,
           "Dream"
          ],
          [
           "Male",
           40.6,
           "Dream"
          ],
          [
           "Female",
           32.1,
           "Dream"
          ],
          [
           "Male",
           40.7,
           "Dream"
          ],
          [
           "Female",
           37.3,
           "Dream"
          ],
          [
           "Male",
           39,
           "Dream"
          ],
          [
           "Male",
           39.2,
           "Dream"
          ],
          [
           "Female",
           36.6,
           "Dream"
          ],
          [
           "Female",
           36,
           "Dream"
          ],
          [
           "Male",
           37.8,
           "Dream"
          ],
          [
           "Female",
           36,
           "Dream"
          ],
          [
           "Male",
           41.5,
           "Dream"
          ]
         ],
         "hovertemplate": "<b>%{hovertext}</b><br><br>species=Adelie<br>longueur des ailes (mm)=%{x}<br>masse corporelle (g)=%{y}<br>sex=%{customdata[0]}<br>longueur du bec (mm)=%{customdata[1]}<br>island=%{customdata[2]}<extra></extra>",
         "hovertext": [
          "Adelie",
          "Adelie",
          "Adelie",
          "Adelie",
          "Adelie",
          "Adelie",
          "Adelie",
          "Adelie",
          "Adelie",
          "Adelie",
          "Adelie",
          "Adelie",
          "Adelie",
          "Adelie",
          "Adelie",
          "Adelie",
          "Adelie",
          "Adelie",
          "Adelie",
          "Adelie",
          "Adelie",
          "Adelie",
          "Adelie",
          "Adelie",
          "Adelie",
          "Adelie",
          "Adelie",
          "Adelie",
          "Adelie",
          "Adelie",
          "Adelie",
          "Adelie",
          "Adelie",
          "Adelie",
          "Adelie",
          "Adelie",
          "Adelie",
          "Adelie",
          "Adelie",
          "Adelie",
          "Adelie",
          "Adelie",
          "Adelie",
          "Adelie",
          "Adelie",
          "Adelie",
          "Adelie",
          "Adelie",
          "Adelie",
          "Adelie",
          "Adelie",
          "Adelie",
          "Adelie",
          "Adelie",
          "Adelie",
          "Adelie",
          "Adelie",
          "Adelie",
          "Adelie",
          "Adelie",
          "Adelie",
          "Adelie",
          "Adelie",
          "Adelie",
          "Adelie",
          "Adelie",
          "Adelie",
          "Adelie",
          "Adelie",
          "Adelie",
          "Adelie",
          "Adelie",
          "Adelie",
          "Adelie",
          "Adelie",
          "Adelie",
          "Adelie",
          "Adelie",
          "Adelie",
          "Adelie",
          "Adelie",
          "Adelie",
          "Adelie",
          "Adelie",
          "Adelie",
          "Adelie",
          "Adelie",
          "Adelie",
          "Adelie",
          "Adelie",
          "Adelie",
          "Adelie",
          "Adelie",
          "Adelie",
          "Adelie",
          "Adelie",
          "Adelie",
          "Adelie",
          "Adelie",
          "Adelie",
          "Adelie",
          "Adelie",
          "Adelie",
          "Adelie",
          "Adelie",
          "Adelie",
          "Adelie",
          "Adelie",
          "Adelie",
          "Adelie",
          "Adelie",
          "Adelie",
          "Adelie",
          "Adelie",
          "Adelie",
          "Adelie",
          "Adelie",
          "Adelie",
          "Adelie",
          "Adelie",
          "Adelie",
          "Adelie",
          "Adelie",
          "Adelie",
          "Adelie",
          "Adelie",
          "Adelie",
          "Adelie",
          "Adelie",
          "Adelie",
          "Adelie",
          "Adelie",
          "Adelie",
          "Adelie",
          "Adelie",
          "Adelie",
          "Adelie",
          "Adelie",
          "Adelie",
          "Adelie",
          "Adelie",
          "Adelie",
          "Adelie",
          "Adelie",
          "Adelie",
          "Adelie",
          "Adelie",
          "Adelie",
          "Adelie",
          "Adelie",
          "Adelie",
          "Adelie"
         ],
         "legendgroup": "Adelie",
         "marker": {
          "color": "#636efa",
          "symbol": "circle"
         },
         "mode": "markers",
         "name": "Adelie",
         "orientation": "v",
         "showlegend": true,
         "type": "scatter",
         "x": {
          "bdata": "AAAAAACgZkAAAAAAAEBnQAAAAAAAYGhAAAAAAAAA+H8AAAAAACBoQAAAAAAAwGdAAAAAAACgZkAAAAAAAGBoQAAAAAAAIGhAAAAAAADAZ0AAAAAAAEBnQAAAAAAAgGZAAAAAAADAZkAAAAAAAOBnQAAAAAAAwGhAAAAAAAAgZ0AAAAAAAGBoQAAAAAAAoGhAAAAAAAAAZ0AAAAAAAEBoQAAAAAAAwGVAAAAAAACAZkAAAAAAAKBnQAAAAAAAIGdAAAAAAACAZkAAAAAAAGBnQAAAAAAA4GZAAAAAAABgZ0AAAAAAAIBlQAAAAAAAgGZAAAAAAABAZkAAAAAAAEBmQAAAAAAAgGdAAAAAAAAAZ0AAAAAAAGBoQAAAAAAAgGhAAAAAAADAZ0AAAAAAAIBmQAAAAAAAoGZAAAAAAAAAZ0AAAAAAAMBmQAAAAAAAYGhAAAAAAABAZ0AAAAAAAIBoQAAAAAAAIGdAAAAAAADAZ0AAAAAAAMBmQAAAAAAAYGZAAAAAAADAZ0AAAAAAAOBnQAAAAAAAQGdAAAAAAACAZ0AAAAAAAMBnQAAAAAAAAGlAAAAAAABgZ0AAAAAAAOBnQAAAAAAAQGdAAAAAAAAgaEAAAAAAAKBmQAAAAAAAQGhAAAAAAAAgZ0AAAAAAAGBoQAAAAAAAIGdAAAAAAAAAaEAAAAAAAABnQAAAAAAAAGhAAAAAAABgaEAAAAAAAIBnQAAAAAAAwGdAAAAAAADAaEAAAAAAAMBnQAAAAAAAwGdAAAAAAACAaEAAAAAAAKBoQAAAAAAAwGdAAAAAAABgaEAAAAAAAOBnQAAAAAAAAGdAAAAAAABgZ0AAAAAAAGBoQAAAAAAAoGdAAAAAAACAaEAAAAAAAGBnQAAAAAAAIGhAAAAAAADgZ0AAAAAAAEBoQAAAAAAAwGdAAAAAAACgZ0AAAAAAAKBnQAAAAAAAwGdAAAAAAABAaUAAAAAAAKBpQAAAAAAAIGdAAAAAAABAZ0AAAAAAAGBnQAAAAAAAAGpAAAAAAADAZ0AAAAAAAIBoQAAAAAAAQGZAAAAAAAAAaEAAAAAAAABoQAAAAAAAYGlAAAAAAADgZkAAAAAAAMBnQAAAAAAAIGhAAAAAAAAAZ0AAAAAAAOBoQAAAAAAAwGdAAAAAAACgZkAAAAAAAKBoQAAAAAAAwGhAAAAAAADgZ0AAAAAAACBoQAAAAAAAoGhAAAAAAADgZ0AAAAAAAIBoQAAAAAAAgGdAAAAAAADgaEAAAAAAAKBnQAAAAAAAoGdAAAAAAABgZ0AAAAAAAMBoQAAAAAAAAGZAAAAAAABAaUAAAAAAAEBnQAAAAAAA4GhAAAAAAADgZ0AAAAAAAGBoQAAAAAAA4GdAAAAAAABAakAAAAAAAMBnQAAAAAAAoGhAAAAAAAAgaEAAAAAAAOBoQAAAAAAAYGdAAAAAAADAZ0AAAAAAAOBnQAAAAAAAAGlAAAAAAAAgZ0AAAAAAACBoQAAAAAAAIGhAAAAAAABgZ0AAAAAAAIBnQAAAAAAAwGdAAAAAAAAAaEAAAAAAACBnQAAAAAAAwGdAAAAAAAAAZ0AAAAAAAGBoQAAAAAAAIGhAAAAAAABgZ0AAAAAAACBpQA==",
          "dtype": "f8"
         },
         "xaxis": "x",
         "y": {
          "bdata": "AAAAAABMrUAAAAAAALCtQAAAAAAAZKlAAAAAAAAA+H8AAAAAAPSqQAAAAAAAhKxAAAAAAABSrEAAAAAAAEOyQAAAAAAAJqtAAAAAAACasEAAAAAAAMipQAAAAAAA6KxAAAAAAAAAqUAAAAAAALCtQAAAAAAAMLFAAAAAAADorEAAAAAAAPSqQAAAAAAAlLFAAAAAAAD6qUAAAAAAAGiwQAAAAAAAkKpAAAAAAAAgrEAAAAAAALCtQAAAAAAA3K5AAAAAAACwrUAAAAAAALCtQAAAAAAAvKtAAAAAAAAAqUAAAAAAAJyoQAAAAAAA3K5AAAAAAABkqUAAAAAAAHiuQAAAAAAAyKlAAAAAAAB4rkAAAAAAAPqpQAAAAAAANrBAAAAAAADcrkAAAAAAALyrQAAAAAAAyKlAAAAAAAAqskAAAAAAAJyoQAAAAAAAeK5AAAAAAAA4qEAAAAAAADCxQAAAAAAAcKdAAAAAAAD4sUAAAAAAAMKqQAAAAAAAPqdAAAAAAAD0qkAAAAAAADawQAAAAAAAWKtAAAAAAADMsEAAAAAAAPSqQAAAAAAApK9AAAAAAACopkAAAAAAAOisQAAAAAAAvKtAAAAAAACwrUAAAAAAAESmQAAAAAAATK1AAAAAAACcqEAAAAAAADCxQAAAAAAAIKxAAAAAAACkr0AAAAAAAESmQAAAAAAA3K5AAAAAAAAsqkAAAAAAAASwQAAAAAAA1KdAAAAAAABisUAAAAAAACCsQAAAAAAAeK5AAAAAAAC8q0AAAAAAADawQAAAAAAA6KxAAAAAAACasEAAAAAAAOisQAAAAAAAeK5AAAAAAAC8q0AAAAAAAECvQAAAAAAAAKlAAAAAAABcskAAAAAAALCtQAAAAAAAaLBAAAAAAAAsqkAAAAAAALyrQAAAAAAAsK1AAAAAAABYq0AAAAAAANyuQAAAAAAAIKxAAAAAAAC8q0AAAAAAAMywQAAAAAAAkKpAAAAAAABisUAAAAAAAMipQAAAAAAAzLBAAAAAAADorEAAAAAAAP6wQAAAAAAAqKZAAAAAAAAEsEAAAAAAABqtQAAAAAAAdbJAAAAAAAAGqEAAAAAAAJqwQAAAAAAA2qZAAAAAAAC8q0AAAAAAAEytQAAAAAAAeK5AAAAAAADOqEAAAAAAAKeyQAAAAAAA4q1AAAAAAAD4sUAAAAAAAACpQAAAAAAAs7BAAAAAAAB4rkAAAAAAANavQAAAAAAAqKZAAAAAAAB+rUAAAAAAACyqQAAAAAAA+qlAAAAAAACcqEAAAAAAAFirQAAAAAAA9KpAAAAAAABGrkAAAAAAANSnQAAAAAAAQK9AAAAAAACWqUAAAAAAAMywQAAAAAAA1KdAAAAAAABAr0AAAAAAAPqpQAAAAAAAWKtAAAAAAABYq0AAAAAAAHuxQAAAAAAAwqpAAAAAAAB4rkAAAAAAAM6oQAAAAAAADq9AAAAAAACQqkAAAAAAAJqwQAAAAAAAkKpAAAAAAAAmq0AAAAAAANSnQAAAAAAAGq1AAAAAAABwp0AAAAAAAISsQAAAAAAAmrBAAAAAAAAmq0AAAAAAAPSqQAAAAAAATK1AAAAAAADorEAAAAAAAECvQA==",
          "dtype": "f8"
         },
         "yaxis": "y"
        },
        {
         "customdata": [
          [
           "Female",
           46.5,
           "Dream"
          ],
          [
           "Male",
           50,
           "Dream"
          ],
          [
           "Male",
           51.3,
           "Dream"
          ],
          [
           "Female",
           45.4,
           "Dream"
          ],
          [
           "Male",
           52.7,
           "Dream"
          ],
          [
           "Female",
           45.2,
           "Dream"
          ],
          [
           "Female",
           46.1,
           "Dream"
          ],
          [
           "Male",
           51.3,
           "Dream"
          ],
          [
           "Female",
           46,
           "Dream"
          ],
          [
           "Male",
           51.3,
           "Dream"
          ],
          [
           "Female",
           46.6,
           "Dream"
          ],
          [
           "Male",
           51.7,
           "Dream"
          ],
          [
           "Female",
           47,
           "Dream"
          ],
          [
           "Male",
           52,
           "Dream"
          ],
          [
           "Female",
           45.9,
           "Dream"
          ],
          [
           "Male",
           50.5,
           "Dream"
          ],
          [
           "Male",
           50.3,
           "Dream"
          ],
          [
           "Female",
           58,
           "Dream"
          ],
          [
           "Female",
           46.4,
           "Dream"
          ],
          [
           "Male",
           49.2,
           "Dream"
          ],
          [
           "Female",
           42.4,
           "Dream"
          ],
          [
           "Male",
           48.5,
           "Dream"
          ],
          [
           "Female",
           43.2,
           "Dream"
          ],
          [
           "Male",
           50.6,
           "Dream"
          ],
          [
           "Female",
           46.7,
           "Dream"
          ],
          [
           "Male",
           52,
           "Dream"
          ],
          [
           "Female",
           50.5,
           "Dream"
          ],
          [
           "Male",
           49.5,
           "Dream"
          ],
          [
           "Female",
           46.4,
           "Dream"
          ],
          [
           "Male",
           52.8,
           "Dream"
          ],
          [
           "Female",
           40.9,
           "Dream"
          ],
          [
           "Male",
           54.2,
           "Dream"
          ],
          [
           "Female",
           42.5,
           "Dream"
          ],
          [
           "Male",
           51,
           "Dream"
          ],
          [
           "Male",
           49.7,
           "Dream"
          ],
          [
           "Female",
           47.5,
           "Dream"
          ],
          [
           "Female",
           47.6,
           "Dream"
          ],
          [
           "Male",
           52,
           "Dream"
          ],
          [
           "Female",
           46.9,
           "Dream"
          ],
          [
           "Male",
           53.5,
           "Dream"
          ],
          [
           "Male",
           49,
           "Dream"
          ],
          [
           "Female",
           46.2,
           "Dream"
          ],
          [
           "Male",
           50.9,
           "Dream"
          ],
          [
           "Female",
           45.5,
           "Dream"
          ],
          [
           "Female",
           50.9,
           "Dream"
          ],
          [
           "Male",
           50.8,
           "Dream"
          ],
          [
           "Female",
           50.1,
           "Dream"
          ],
          [
           "Male",
           49,
           "Dream"
          ],
          [
           "Male",
           51.5,
           "Dream"
          ],
          [
           "Female",
           49.8,
           "Dream"
          ],
          [
           "Female",
           48.1,
           "Dream"
          ],
          [
           "Male",
           51.4,
           "Dream"
          ],
          [
           "Female",
           45.7,
           "Dream"
          ],
          [
           "Male",
           50.7,
           "Dream"
          ],
          [
           "Female",
           42.5,
           "Dream"
          ],
          [
           "Male",
           52.2,
           "Dream"
          ],
          [
           "Female",
           45.2,
           "Dream"
          ],
          [
           "Male",
           49.3,
           "Dream"
          ],
          [
           "Male",
           50.2,
           "Dream"
          ],
          [
           "Female",
           45.6,
           "Dream"
          ],
          [
           "Male",
           51.9,
           "Dream"
          ],
          [
           "Female",
           46.8,
           "Dream"
          ],
          [
           "Female",
           45.7,
           "Dream"
          ],
          [
           "Male",
           55.8,
           "Dream"
          ],
          [
           "Female",
           43.5,
           "Dream"
          ],
          [
           "Male",
           49.6,
           "Dream"
          ],
          [
           "Male",
           50.8,
           "Dream"
          ],
          [
           "Female",
           50.2,
           "Dream"
          ]
         ],
         "hovertemplate": "<b>%{hovertext}</b><br><br>species=Chinstrap<br>longueur des ailes (mm)=%{x}<br>masse corporelle (g)=%{y}<br>sex=%{customdata[0]}<br>longueur du bec (mm)=%{customdata[1]}<br>island=%{customdata[2]}<extra></extra>",
         "hovertext": [
          "Chinstrap",
          "Chinstrap",
          "Chinstrap",
          "Chinstrap",
          "Chinstrap",
          "Chinstrap",
          "Chinstrap",
          "Chinstrap",
          "Chinstrap",
          "Chinstrap",
          "Chinstrap",
          "Chinstrap",
          "Chinstrap",
          "Chinstrap",
          "Chinstrap",
          "Chinstrap",
          "Chinstrap",
          "Chinstrap",
          "Chinstrap",
          "Chinstrap",
          "Chinstrap",
          "Chinstrap",
          "Chinstrap",
          "Chinstrap",
          "Chinstrap",
          "Chinstrap",
          "Chinstrap",
          "Chinstrap",
          "Chinstrap",
          "Chinstrap",
          "Chinstrap",
          "Chinstrap",
          "Chinstrap",
          "Chinstrap",
          "Chinstrap",
          "Chinstrap",
          "Chinstrap",
          "Chinstrap",
          "Chinstrap",
          "Chinstrap",
          "Chinstrap",
          "Chinstrap",
          "Chinstrap",
          "Chinstrap",
          "Chinstrap",
          "Chinstrap",
          "Chinstrap",
          "Chinstrap",
          "Chinstrap",
          "Chinstrap",
          "Chinstrap",
          "Chinstrap",
          "Chinstrap",
          "Chinstrap",
          "Chinstrap",
          "Chinstrap",
          "Chinstrap",
          "Chinstrap",
          "Chinstrap",
          "Chinstrap",
          "Chinstrap",
          "Chinstrap",
          "Chinstrap",
          "Chinstrap",
          "Chinstrap",
          "Chinstrap",
          "Chinstrap",
          "Chinstrap"
         ],
         "legendgroup": "Chinstrap",
         "marker": {
          "color": "#EF553B",
          "symbol": "circle"
         },
         "mode": "markers",
         "name": "Chinstrap",
         "orientation": "v",
         "showlegend": true,
         "type": "scatter",
         "x": {
          "bdata": "AAAAAAAAaEAAAAAAAIBoQAAAAAAAIGhAAAAAAACAZ0AAAAAAAKBoQAAAAAAAwGhAAAAAAABAZkAAAAAAAKBoQAAAAAAAYGhAAAAAAADAaEAAAAAAACBoQAAAAAAAQGhAAAAAAAAgZ0AAAAAAACBpQAAAAAAAwGdAAAAAAAAgaUAAAAAAAKBoQAAAAAAAoGZAAAAAAADAZ0AAAAAAAGBoQAAAAAAAoGZAAAAAAADgZ0AAAAAAAGBnQAAAAAAAIGhAAAAAAABgaEAAAAAAAKBoQAAAAAAAAGlAAAAAAAAAaUAAAAAAAOBnQAAAAAAAoGlAAAAAAABgZ0AAAAAAACBpQAAAAAAAYGdAAAAAAABgaUAAAAAAAGBoQAAAAAAA4GhAAAAAAABgaEAAAAAAAEBqQAAAAAAAAGhAAAAAAACgaUAAAAAAAEBqQAAAAAAAYGdAAAAAAACAaEAAAAAAAIBoQAAAAAAAgGhAAAAAAAAgaUAAAAAAAMBnQAAAAAAAgGpAAAAAAABgZ0AAAAAAAMBoQAAAAAAA4GhAAAAAAAAgaUAAAAAAACBoQAAAAAAAYGlAAAAAAABgZ0AAAAAAAKBoQAAAAAAA4GdAAAAAAABgaUAAAAAAAEBpQAAAAAAAQGhAAAAAAADAaUAAAAAAAKBnQAAAAAAAYGhAAAAAAADgaUAAAAAAAEBpQAAAAAAAIGhAAAAAAABAakAAAAAAAMBoQA==",
          "dtype": "f8"
         },
         "xaxis": "x",
         "y": {
          "bdata": "AAAAAABYq0AAAAAAAHiuQAAAAAAAhKxAAAAAAACKq0AAAAAAABqtQAAAAAAA3K5AAAAAAABkqUAAAAAAAEytQAAAAAAANrBAAAAAAADorEAAAAAAALCtQAAAAAAAfq1AAAAAAADorEAAAAAAAKSvQAAAAAAA7qtAAAAAAACkr0AAAAAAAMipQAAAAAAA6KxAAAAAAAD0qkAAAAAAADCxQAAAAAAAIKxAAAAAAACQqkAAAAAAAKimQAAAAAAAsK1AAAAAAADIqUAAAAAAADawQAAAAAAAkKpAAAAAAACwrUAAAAAAAOisQAAAAAAAxrFAAAAAAAAAqUAAAAAAAMywQAAAAAAALKpAAAAAAAAEsEAAAAAAACCsQAAAAAAAeK5AAAAAAAAUrkAAAAAAAMCyQAAAAAAAGKVAAAAAAACUsUAAAAAAANyuQAAAAAAAhKxAAAAAAAC8q0AAAAAAAFirQAAAAAAAtqxAAAAAAABisUAAAAAAAJCqQAAAAAAAzLBAAAAAAABkqUAAAAAAALasQAAAAAAA+qlAAAAAAADcrkAAAAAAACCsQAAAAAAApK9AAAAAAAAsqkAAAAAAAPSqQAAAAAAAZKlAAAAAAACkr0AAAAAAALCtQAAAAAAAiqtAAAAAAADcrkAAAAAAAISsQAAAAAAAhKxAAAAAAABAr0AAAAAAAJCqQAAAAAAAfq1AAAAAAAAEsEAAAAAAAH6tQA==",
          "dtype": "f8"
         },
         "yaxis": "y"
        },
        {
         "customdata": [
          [
           "Female",
           46.1,
           "Biscoe"
          ],
          [
           "Male",
           50,
           "Biscoe"
          ],
          [
           "Female",
           48.7,
           "Biscoe"
          ],
          [
           "Male",
           50,
           "Biscoe"
          ],
          [
           "Male",
           47.6,
           "Biscoe"
          ],
          [
           "Female",
           46.5,
           "Biscoe"
          ],
          [
           "Female",
           45.4,
           "Biscoe"
          ],
          [
           "Male",
           46.7,
           "Biscoe"
          ],
          [
           "Female",
           43.3,
           "Biscoe"
          ],
          [
           "Male",
           46.8,
           "Biscoe"
          ],
          [
           "Female",
           40.9,
           "Biscoe"
          ],
          [
           "Male",
           49,
           "Biscoe"
          ],
          [
           "Female",
           45.5,
           "Biscoe"
          ],
          [
           "Male",
           48.4,
           "Biscoe"
          ],
          [
           "Female",
           45.8,
           "Biscoe"
          ],
          [
           "Male",
           49.3,
           "Biscoe"
          ],
          [
           "Female",
           42,
           "Biscoe"
          ],
          [
           "Male",
           49.2,
           "Biscoe"
          ],
          [
           "Female",
           46.2,
           "Biscoe"
          ],
          [
           "Male",
           48.7,
           "Biscoe"
          ],
          [
           "Male",
           50.2,
           "Biscoe"
          ],
          [
           "Female",
           45.1,
           "Biscoe"
          ],
          [
           "Female",
           46.5,
           "Biscoe"
          ],
          [
           "Male",
           46.3,
           "Biscoe"
          ],
          [
           "Female",
           42.9,
           "Biscoe"
          ],
          [
           "Male",
           46.1,
           "Biscoe"
          ],
          [
           null,
           44.5,
           "Biscoe"
          ],
          [
           "Male",
           47.8,
           "Biscoe"
          ],
          [
           "Female",
           48.2,
           "Biscoe"
          ],
          [
           "Male",
           50,
           "Biscoe"
          ],
          [
           "Male",
           47.3,
           "Biscoe"
          ],
          [
           "Female",
           42.8,
           "Biscoe"
          ],
          [
           "Female",
           45.1,
           "Biscoe"
          ],
          [
           "Male",
           59.6,
           "Biscoe"
          ],
          [
           "Female",
           49.1,
           "Biscoe"
          ],
          [
           "Male",
           48.4,
           "Biscoe"
          ],
          [
           "Female",
           42.6,
           "Biscoe"
          ],
          [
           "Male",
           44.4,
           "Biscoe"
          ],
          [
           "Female",
           44,
           "Biscoe"
          ],
          [
           "Male",
           48.7,
           "Biscoe"
          ],
          [
           "Female",
           42.7,
           "Biscoe"
          ],
          [
           "Male",
           49.6,
           "Biscoe"
          ],
          [
           "Female",
           45.3,
           "Biscoe"
          ],
          [
           "Male",
           49.6,
           "Biscoe"
          ],
          [
           "Male",
           50.5,
           "Biscoe"
          ],
          [
           "Female",
           43.6,
           "Biscoe"
          ],
          [
           "Female",
           45.5,
           "Biscoe"
          ],
          [
           "Male",
           50.5,
           "Biscoe"
          ],
          [
           "Female",
           44.9,
           "Biscoe"
          ],
          [
           "Male",
           45.2,
           "Biscoe"
          ],
          [
           "Female",
           46.6,
           "Biscoe"
          ],
          [
           "Male",
           48.5,
           "Biscoe"
          ],
          [
           "Female",
           45.1,
           "Biscoe"
          ],
          [
           "Male",
           50.1,
           "Biscoe"
          ],
          [
           "Female",
           46.5,
           "Biscoe"
          ],
          [
           "Male",
           45,
           "Biscoe"
          ],
          [
           "Female",
           43.8,
           "Biscoe"
          ],
          [
           "Male",
           45.5,
           "Biscoe"
          ],
          [
           "Female",
           43.2,
           "Biscoe"
          ],
          [
           "Male",
           50.4,
           "Biscoe"
          ],
          [
           "Female",
           45.3,
           "Biscoe"
          ],
          [
           "Male",
           46.2,
           "Biscoe"
          ],
          [
           "Female",
           45.7,
           "Biscoe"
          ],
          [
           "Male",
           54.3,
           "Biscoe"
          ],
          [
           "Female",
           45.8,
           "Biscoe"
          ],
          [
           "Male",
           49.8,
           "Biscoe"
          ],
          [
           null,
           46.2,
           "Biscoe"
          ],
          [
           "Male",
           49.5,
           "Biscoe"
          ],
          [
           "Female",
           43.5,
           "Biscoe"
          ],
          [
           "Male",
           50.7,
           "Biscoe"
          ],
          [
           "Female",
           47.7,
           "Biscoe"
          ],
          [
           "Male",
           46.4,
           "Biscoe"
          ],
          [
           "Male",
           48.2,
           "Biscoe"
          ],
          [
           "Female",
           46.5,
           "Biscoe"
          ],
          [
           "Female",
           46.4,
           "Biscoe"
          ],
          [
           "Male",
           48.6,
           "Biscoe"
          ],
          [
           "Female",
           47.5,
           "Biscoe"
          ],
          [
           "Male",
           51.1,
           "Biscoe"
          ],
          [
           "Female",
           45.2,
           "Biscoe"
          ],
          [
           "Male",
           45.2,
           "Biscoe"
          ],
          [
           "Female",
           49.1,
           "Biscoe"
          ],
          [
           "Male",
           52.5,
           "Biscoe"
          ],
          [
           "Female",
           47.4,
           "Biscoe"
          ],
          [
           "Male",
           50,
           "Biscoe"
          ],
          [
           "Female",
           44.9,
           "Biscoe"
          ],
          [
           "Male",
           50.8,
           "Biscoe"
          ],
          [
           "Female",
           43.4,
           "Biscoe"
          ],
          [
           "Male",
           51.3,
           "Biscoe"
          ],
          [
           "Female",
           47.5,
           "Biscoe"
          ],
          [
           "Male",
           52.1,
           "Biscoe"
          ],
          [
           "Female",
           47.5,
           "Biscoe"
          ],
          [
           "Male",
           52.2,
           "Biscoe"
          ],
          [
           "Female",
           45.5,
           "Biscoe"
          ],
          [
           "Male",
           49.5,
           "Biscoe"
          ],
          [
           "Female",
           44.5,
           "Biscoe"
          ],
          [
           "Male",
           50.8,
           "Biscoe"
          ],
          [
           "Male",
           49.4,
           "Biscoe"
          ],
          [
           "Female",
           46.9,
           "Biscoe"
          ],
          [
           "Female",
           48.4,
           "Biscoe"
          ],
          [
           "Male",
           51.1,
           "Biscoe"
          ],
          [
           "Female",
           48.5,
           "Biscoe"
          ],
          [
           "Male",
           55.9,
           "Biscoe"
          ],
          [
           "Female",
           47.2,
           "Biscoe"
          ],
          [
           "Male",
           49.1,
           "Biscoe"
          ],
          [
           null,
           47.3,
           "Biscoe"
          ],
          [
           "Male",
           46.8,
           "Biscoe"
          ],
          [
           "Female",
           41.7,
           "Biscoe"
          ],
          [
           "Male",
           53.4,
           "Biscoe"
          ],
          [
           "Female",
           43.3,
           "Biscoe"
          ],
          [
           "Male",
           48.1,
           "Biscoe"
          ],
          [
           "Female",
           50.5,
           "Biscoe"
          ],
          [
           "Male",
           49.8,
           "Biscoe"
          ],
          [
           "Female",
           43.5,
           "Biscoe"
          ],
          [
           "Male",
           51.5,
           "Biscoe"
          ],
          [
           "Female",
           46.2,
           "Biscoe"
          ],
          [
           "Male",
           55.1,
           "Biscoe"
          ],
          [
           null,
           44.5,
           "Biscoe"
          ],
          [
           "Male",
           48.8,
           "Biscoe"
          ],
          [
           "Female",
           47.2,
           "Biscoe"
          ],
          [
           null,
           null,
           "Biscoe"
          ],
          [
           "Female",
           46.8,
           "Biscoe"
          ],
          [
           "Male",
           50.4,
           "Biscoe"
          ],
          [
           "Female",
           45.2,
           "Biscoe"
          ],
          [
           "Male",
           49.9,
           "Biscoe"
          ]
         ],
         "hovertemplate": "<b>%{hovertext}</b><br><br>species=Gentoo<br>longueur des ailes (mm)=%{x}<br>masse corporelle (g)=%{y}<br>sex=%{customdata[0]}<br>longueur du bec (mm)=%{customdata[1]}<br>island=%{customdata[2]}<extra></extra>",
         "hovertext": [
          "Gentoo",
          "Gentoo",
          "Gentoo",
          "Gentoo",
          "Gentoo",
          "Gentoo",
          "Gentoo",
          "Gentoo",
          "Gentoo",
          "Gentoo",
          "Gentoo",
          "Gentoo",
          "Gentoo",
          "Gentoo",
          "Gentoo",
          "Gentoo",
          "Gentoo",
          "Gentoo",
          "Gentoo",
          "Gentoo",
          "Gentoo",
          "Gentoo",
          "Gentoo",
          "Gentoo",
          "Gentoo",
          "Gentoo",
          "Gentoo",
          "Gentoo",
          "Gentoo",
          "Gentoo",
          "Gentoo",
          "Gentoo",
          "Gentoo",
          "Gentoo",
          "Gentoo",
          "Gentoo",
          "Gentoo",
          "Gentoo",
          "Gentoo",
          "Gentoo",
          "Gentoo",
          "Gentoo",
          "Gentoo",
          "Gentoo",
          "Gentoo",
          "Gentoo",
          "Gentoo",
          "Gentoo",
          "Gentoo",
          "Gentoo",
          "Gentoo",
          "Gentoo",
          "Gentoo",
          "Gentoo",
          "Gentoo",
          "Gentoo",
          "Gentoo",
          "Gentoo",
          "Gentoo",
          "Gentoo",
          "Gentoo",
          "Gentoo",
          "Gentoo",
          "Gentoo",
          "Gentoo",
          "Gentoo",
          "Gentoo",
          "Gentoo",
          "Gentoo",
          "Gentoo",
          "Gentoo",
          "Gentoo",
          "Gentoo",
          "Gentoo",
          "Gentoo",
          "Gentoo",
          "Gentoo",
          "Gentoo",
          "Gentoo",
          "Gentoo",
          "Gentoo",
          "Gentoo",
          "Gentoo",
          "Gentoo",
          "Gentoo",
          "Gentoo",
          "Gentoo",
          "Gentoo",
          "Gentoo",
          "Gentoo",
          "Gentoo",
          "Gentoo",
          "Gentoo",
          "Gentoo",
          "Gentoo",
          "Gentoo",
          "Gentoo",
          "Gentoo",
          "Gentoo",
          "Gentoo",
          "Gentoo",
          "Gentoo",
          "Gentoo",
          "Gentoo",
          "Gentoo",
          "Gentoo",
          "Gentoo",
          "Gentoo",
          "Gentoo",
          "Gentoo",
          "Gentoo",
          "Gentoo",
          "Gentoo",
          "Gentoo",
          "Gentoo",
          "Gentoo",
          "Gentoo",
          "Gentoo",
          "Gentoo",
          "Gentoo",
          "Gentoo",
          "Gentoo",
          "Gentoo",
          "Gentoo"
         ],
         "legendgroup": "Gentoo",
         "marker": {
          "color": "#00cc96",
          "symbol": "circle"
         },
         "mode": "markers",
         "name": "Gentoo",
         "orientation": "v",
         "showlegend": true,
         "type": "scatter",
         "x": {
          "bdata": "AAAAAABgakAAAAAAAMBsQAAAAAAAQGpAAAAAAABAa0AAAAAAAOBqQAAAAAAAQGpAAAAAAABgakAAAAAAAGBrQAAAAAAAIGpAAAAAAADgakAAAAAAAMBqQAAAAAAAAGtAAAAAAADAakAAAAAAAKBqQAAAAAAAQGpAAAAAAAAga0AAAAAAAEBqQAAAAAAAoGtAAAAAAAAgakAAAAAAAMBrQAAAAAAAQGtAAAAAAADgakAAAAAAAKBqQAAAAAAA4GpAAAAAAADgakAAAAAAAOBqQAAAAAAAAGtAAAAAAADgakAAAAAAAEBqQAAAAAAAgGtAAAAAAADAa0AAAAAAACBqQAAAAAAA4GlAAAAAAADAbEAAAAAAAIBrQAAAAAAAgGtAAAAAAACgakAAAAAAAGBrQAAAAAAAAGpAAAAAAAAAakAAAAAAAABqQAAAAAAAIGxAAAAAAABAakAAAAAAAABrQAAAAAAAwGtAAAAAAAAga0AAAAAAAEBqQAAAAAAAIGxAAAAAAACgakAAAAAAAOBqQAAAAAAAQGpAAAAAAACAa0AAAAAAAEBqQAAAAAAAIGxAAAAAAAAga0AAAAAAAIBrQAAAAAAAAGpAAAAAAACAa0AAAAAAAABqQAAAAAAAAGxAAAAAAAAAakAAAAAAAKBrQAAAAAAAwGpAAAAAAADgbEAAAAAAAGBrQAAAAAAAwGxAAAAAAADAakAAAAAAAKBsQAAAAAAAgGtAAAAAAADga0AAAAAAAABrQAAAAAAAoGtAAAAAAACga0AAAAAAACBrQAAAAAAAAGtAAAAAAADAbEAAAAAAACBqQAAAAAAAgGtAAAAAAADgakAAAAAAAOBrQAAAAAAAgGpAAAAAAACga0AAAAAAAIBqQAAAAAAAAGxAAAAAAACAakAAAAAAAIBsQAAAAAAAQGtAAAAAAABAa0AAAAAAAIBqQAAAAAAAwGxAAAAAAABAa0AAAAAAAIBsQAAAAAAAgGpAAAAAAAAAbEAAAAAAAMBqQAAAAAAAQGxAAAAAAAAAa0AAAAAAAMBrQAAAAAAAYGlAAAAAAAAgbEAAAAAAAGBrQAAAAAAAgGxAAAAAAADgakAAAAAAAIBsQAAAAAAAAGtAAAAAAADgakAAAAAAAEBqQAAAAAAAYGtAAAAAAAAAakAAAAAAACBqQAAAAAAAAGtAAAAAAACgbEAAAAAAAKBqQAAAAAAAwGxAAAAAAAAga0AAAAAAAMBsQAAAAAAAIGtAAAAAAADAa0AAAAAAAMBqQAAAAAAAAPh/AAAAAADgakAAAAAAAMBrQAAAAAAAgGpAAAAAAACgakA=",
          "dtype": "f8"
         },
         "xaxis": "x",
         "y": {
          "bdata": "AAAAAACUsUAAAAAAAES2QAAAAAAAYrFAAAAAAABEtkAAAAAAABi1QAAAAAAAxrFAAAAAAADAskAAAAAAAFC0QAAAAAAAMLFAAAAAAAAetEAAAAAAACqyQAAAAAAArrVAAAAAAAAqskAAAAAAANq2QAAAAAAAaLBAAAAAAADatkAAAAAAADawQAAAAAAAnLhAAAAAAADAskAAAAAAAOa0QAAAAAAARLZAAAAAAACIs0AAAAAAADCxQAAAAAAAurNAAAAAAACIs0AAAAAAAOyzQAAAAAAABLBAAAAAAAAStkAAAAAAAPixQAAAAAAArrVAAAAAAACCtEAAAAAAAFyyQAAAAAAAurNAAAAAAACit0AAAAAAAB60QAAAAAAAGLVAAAAAAABWs0AAAAAAAIK0QAAAAAAA/rBAAAAAAADmtEAAAAAAANyuQAAAAAAARLZAAAAAAADMsEAAAAAAAI6yQAAAAAAArrVAAAAAAAAks0AAAAAAAGiwQAAAAAAAGLVAAAAAAADss0AAAAAAALS0QAAAAAAA8rJAAAAAAAC0tEAAAAAAADCxQAAAAAAAiLNAAAAAAAAks0AAAAAAALqzQAAAAAAAzLBAAAAAAACIs0AAAAAAAGKxQAAAAAAArrVAAAAAAABosEAAAAAAALS0QAAAAAAAMLFAAAAAAAAStkAAAAAAAFyyQAAAAAAARLZAAAAAAAAqskAAAAAAAKi2QAAAAAAAXLJAAAAAAACutUAAAAAAAI6yQAAAAAAAiLNAAAAAAADss0AAAAAAAFC0QAAAAAAAXLJAAAAAAACotkAAAAAAAPixQAAAAAAAcLdAAAAAAACOskAAAAAAAD63QAAAAAAAEbJAAAAAAABKtUAAAAAAAHWyQAAAAAAA5rRAAAAAAACOskAAAAAAAOC1QAAAAAAA+LFAAAAAAAC0tEAAAAAAAAuzQAAAAAAArrVAAAAAAABWs0AAAAAAABi1QAAAAAAAjrJAAAAAAAAStkAAAAAAAPKyQAAAAAAAULRAAAAAAAA9s0AAAAAAAAuzQAAAAAAAEbJAAAAAAACCtEAAAAAAAPKyQAAAAAAA4LVAAAAAAABvs0AAAAAAAHy1QAAAAAAAdbJAAAAAAAB8tUAAAAAAAFyyQAAAAAAAfLVAAAAAAADfsUAAAAAAAHy1QAAAAAAAiLNAAAAAAAA+t0AAAAAAACqyQAAAAAAAfLVAAAAAAAAXsUAAAAAAANq2QAAAAAAAC7NAAAAAAABwt0AAAAAAAD2zQAAAAAAAAPh/AAAAAADyskAAAAAAAHa2QAAAAAAAULRAAAAAAAAYtUA=",
          "dtype": "f8"
         },
         "yaxis": "y"
        }
       ],
       "layout": {
        "height": 500,
        "legend": {
         "title": {
          "text": "species"
         },
         "tracegroupgap": 0
        },
        "template": {
         "data": {
          "bar": [
           {
            "error_x": {
             "color": "#2a3f5f"
            },
            "error_y": {
             "color": "#2a3f5f"
            },
            "marker": {
             "line": {
              "color": "#E5ECF6",
              "width": 0.5
             },
             "pattern": {
              "fillmode": "overlay",
              "size": 10,
              "solidity": 0.2
             }
            },
            "type": "bar"
           }
          ],
          "barpolar": [
           {
            "marker": {
             "line": {
              "color": "#E5ECF6",
              "width": 0.5
             },
             "pattern": {
              "fillmode": "overlay",
              "size": 10,
              "solidity": 0.2
             }
            },
            "type": "barpolar"
           }
          ],
          "carpet": [
           {
            "aaxis": {
             "endlinecolor": "#2a3f5f",
             "gridcolor": "white",
             "linecolor": "white",
             "minorgridcolor": "white",
             "startlinecolor": "#2a3f5f"
            },
            "baxis": {
             "endlinecolor": "#2a3f5f",
             "gridcolor": "white",
             "linecolor": "white",
             "minorgridcolor": "white",
             "startlinecolor": "#2a3f5f"
            },
            "type": "carpet"
           }
          ],
          "choropleth": [
           {
            "colorbar": {
             "outlinewidth": 0,
             "ticks": ""
            },
            "type": "choropleth"
           }
          ],
          "contour": [
           {
            "colorbar": {
             "outlinewidth": 0,
             "ticks": ""
            },
            "colorscale": [
             [
              0,
              "#0d0887"
             ],
             [
              0.1111111111111111,
              "#46039f"
             ],
             [
              0.2222222222222222,
              "#7201a8"
             ],
             [
              0.3333333333333333,
              "#9c179e"
             ],
             [
              0.4444444444444444,
              "#bd3786"
             ],
             [
              0.5555555555555556,
              "#d8576b"
             ],
             [
              0.6666666666666666,
              "#ed7953"
             ],
             [
              0.7777777777777778,
              "#fb9f3a"
             ],
             [
              0.8888888888888888,
              "#fdca26"
             ],
             [
              1,
              "#f0f921"
             ]
            ],
            "type": "contour"
           }
          ],
          "contourcarpet": [
           {
            "colorbar": {
             "outlinewidth": 0,
             "ticks": ""
            },
            "type": "contourcarpet"
           }
          ],
          "heatmap": [
           {
            "colorbar": {
             "outlinewidth": 0,
             "ticks": ""
            },
            "colorscale": [
             [
              0,
              "#0d0887"
             ],
             [
              0.1111111111111111,
              "#46039f"
             ],
             [
              0.2222222222222222,
              "#7201a8"
             ],
             [
              0.3333333333333333,
              "#9c179e"
             ],
             [
              0.4444444444444444,
              "#bd3786"
             ],
             [
              0.5555555555555556,
              "#d8576b"
             ],
             [
              0.6666666666666666,
              "#ed7953"
             ],
             [
              0.7777777777777778,
              "#fb9f3a"
             ],
             [
              0.8888888888888888,
              "#fdca26"
             ],
             [
              1,
              "#f0f921"
             ]
            ],
            "type": "heatmap"
           }
          ],
          "histogram": [
           {
            "marker": {
             "pattern": {
              "fillmode": "overlay",
              "size": 10,
              "solidity": 0.2
             }
            },
            "type": "histogram"
           }
          ],
          "histogram2d": [
           {
            "colorbar": {
             "outlinewidth": 0,
             "ticks": ""
            },
            "colorscale": [
             [
              0,
              "#0d0887"
             ],
             [
              0.1111111111111111,
              "#46039f"
             ],
             [
              0.2222222222222222,
              "#7201a8"
             ],
             [
              0.3333333333333333,
              "#9c179e"
             ],
             [
              0.4444444444444444,
              "#bd3786"
             ],
             [
              0.5555555555555556,
              "#d8576b"
             ],
             [
              0.6666666666666666,
              "#ed7953"
             ],
             [
              0.7777777777777778,
              "#fb9f3a"
             ],
             [
              0.8888888888888888,
              "#fdca26"
             ],
             [
              1,
              "#f0f921"
             ]
            ],
            "type": "histogram2d"
           }
          ],
          "histogram2dcontour": [
           {
            "colorbar": {
             "outlinewidth": 0,
             "ticks": ""
            },
            "colorscale": [
             [
              0,
              "#0d0887"
             ],
             [
              0.1111111111111111,
              "#46039f"
             ],
             [
              0.2222222222222222,
              "#7201a8"
             ],
             [
              0.3333333333333333,
              "#9c179e"
             ],
             [
              0.4444444444444444,
              "#bd3786"
             ],
             [
              0.5555555555555556,
              "#d8576b"
             ],
             [
              0.6666666666666666,
              "#ed7953"
             ],
             [
              0.7777777777777778,
              "#fb9f3a"
             ],
             [
              0.8888888888888888,
              "#fdca26"
             ],
             [
              1,
              "#f0f921"
             ]
            ],
            "type": "histogram2dcontour"
           }
          ],
          "mesh3d": [
           {
            "colorbar": {
             "outlinewidth": 0,
             "ticks": ""
            },
            "type": "mesh3d"
           }
          ],
          "parcoords": [
           {
            "line": {
             "colorbar": {
              "outlinewidth": 0,
              "ticks": ""
             }
            },
            "type": "parcoords"
           }
          ],
          "pie": [
           {
            "automargin": true,
            "type": "pie"
           }
          ],
          "scatter": [
           {
            "fillpattern": {
             "fillmode": "overlay",
             "size": 10,
             "solidity": 0.2
            },
            "type": "scatter"
           }
          ],
          "scatter3d": [
           {
            "line": {
             "colorbar": {
              "outlinewidth": 0,
              "ticks": ""
             }
            },
            "marker": {
             "colorbar": {
              "outlinewidth": 0,
              "ticks": ""
             }
            },
            "type": "scatter3d"
           }
          ],
          "scattercarpet": [
           {
            "marker": {
             "colorbar": {
              "outlinewidth": 0,
              "ticks": ""
             }
            },
            "type": "scattercarpet"
           }
          ],
          "scattergeo": [
           {
            "marker": {
             "colorbar": {
              "outlinewidth": 0,
              "ticks": ""
             }
            },
            "type": "scattergeo"
           }
          ],
          "scattergl": [
           {
            "marker": {
             "colorbar": {
              "outlinewidth": 0,
              "ticks": ""
             }
            },
            "type": "scattergl"
           }
          ],
          "scattermap": [
           {
            "marker": {
             "colorbar": {
              "outlinewidth": 0,
              "ticks": ""
             }
            },
            "type": "scattermap"
           }
          ],
          "scattermapbox": [
           {
            "marker": {
             "colorbar": {
              "outlinewidth": 0,
              "ticks": ""
             }
            },
            "type": "scattermapbox"
           }
          ],
          "scatterpolar": [
           {
            "marker": {
             "colorbar": {
              "outlinewidth": 0,
              "ticks": ""
             }
            },
            "type": "scatterpolar"
           }
          ],
          "scatterpolargl": [
           {
            "marker": {
             "colorbar": {
              "outlinewidth": 0,
              "ticks": ""
             }
            },
            "type": "scatterpolargl"
           }
          ],
          "scatterternary": [
           {
            "marker": {
             "colorbar": {
              "outlinewidth": 0,
              "ticks": ""
             }
            },
            "type": "scatterternary"
           }
          ],
          "surface": [
           {
            "colorbar": {
             "outlinewidth": 0,
             "ticks": ""
            },
            "colorscale": [
             [
              0,
              "#0d0887"
             ],
             [
              0.1111111111111111,
              "#46039f"
             ],
             [
              0.2222222222222222,
              "#7201a8"
             ],
             [
              0.3333333333333333,
              "#9c179e"
             ],
             [
              0.4444444444444444,
              "#bd3786"
             ],
             [
              0.5555555555555556,
              "#d8576b"
             ],
             [
              0.6666666666666666,
              "#ed7953"
             ],
             [
              0.7777777777777778,
              "#fb9f3a"
             ],
             [
              0.8888888888888888,
              "#fdca26"
             ],
             [
              1,
              "#f0f921"
             ]
            ],
            "type": "surface"
           }
          ],
          "table": [
           {
            "cells": {
             "fill": {
              "color": "#EBF0F8"
             },
             "line": {
              "color": "white"
             }
            },
            "header": {
             "fill": {
              "color": "#C8D4E3"
             },
             "line": {
              "color": "white"
             }
            },
            "type": "table"
           }
          ]
         },
         "layout": {
          "annotationdefaults": {
           "arrowcolor": "#2a3f5f",
           "arrowhead": 0,
           "arrowwidth": 1
          },
          "autotypenumbers": "strict",
          "coloraxis": {
           "colorbar": {
            "outlinewidth": 0,
            "ticks": ""
           }
          },
          "colorscale": {
           "diverging": [
            [
             0,
             "#8e0152"
            ],
            [
             0.1,
             "#c51b7d"
            ],
            [
             0.2,
             "#de77ae"
            ],
            [
             0.3,
             "#f1b6da"
            ],
            [
             0.4,
             "#fde0ef"
            ],
            [
             0.5,
             "#f7f7f7"
            ],
            [
             0.6,
             "#e6f5d0"
            ],
            [
             0.7,
             "#b8e186"
            ],
            [
             0.8,
             "#7fbc41"
            ],
            [
             0.9,
             "#4d9221"
            ],
            [
             1,
             "#276419"
            ]
           ],
           "sequential": [
            [
             0,
             "#0d0887"
            ],
            [
             0.1111111111111111,
             "#46039f"
            ],
            [
             0.2222222222222222,
             "#7201a8"
            ],
            [
             0.3333333333333333,
             "#9c179e"
            ],
            [
             0.4444444444444444,
             "#bd3786"
            ],
            [
             0.5555555555555556,
             "#d8576b"
            ],
            [
             0.6666666666666666,
             "#ed7953"
            ],
            [
             0.7777777777777778,
             "#fb9f3a"
            ],
            [
             0.8888888888888888,
             "#fdca26"
            ],
            [
             1,
             "#f0f921"
            ]
           ],
           "sequentialminus": [
            [
             0,
             "#0d0887"
            ],
            [
             0.1111111111111111,
             "#46039f"
            ],
            [
             0.2222222222222222,
             "#7201a8"
            ],
            [
             0.3333333333333333,
             "#9c179e"
            ],
            [
             0.4444444444444444,
             "#bd3786"
            ],
            [
             0.5555555555555556,
             "#d8576b"
            ],
            [
             0.6666666666666666,
             "#ed7953"
            ],
            [
             0.7777777777777778,
             "#fb9f3a"
            ],
            [
             0.8888888888888888,
             "#fdca26"
            ],
            [
             1,
             "#f0f921"
            ]
           ]
          },
          "colorway": [
           "#636efa",
           "#EF553B",
           "#00cc96",
           "#ab63fa",
           "#FFA15A",
           "#19d3f3",
           "#FF6692",
           "#B6E880",
           "#FF97FF",
           "#FECB52"
          ],
          "font": {
           "color": "#2a3f5f"
          },
          "geo": {
           "bgcolor": "white",
           "lakecolor": "white",
           "landcolor": "#E5ECF6",
           "showlakes": true,
           "showland": true,
           "subunitcolor": "white"
          },
          "hoverlabel": {
           "align": "left"
          },
          "hovermode": "closest",
          "mapbox": {
           "style": "light"
          },
          "paper_bgcolor": "white",
          "plot_bgcolor": "#E5ECF6",
          "polar": {
           "angularaxis": {
            "gridcolor": "white",
            "linecolor": "white",
            "ticks": ""
           },
           "bgcolor": "#E5ECF6",
           "radialaxis": {
            "gridcolor": "white",
            "linecolor": "white",
            "ticks": ""
           }
          },
          "scene": {
           "xaxis": {
            "backgroundcolor": "#E5ECF6",
            "gridcolor": "white",
            "gridwidth": 2,
            "linecolor": "white",
            "showbackground": true,
            "ticks": "",
            "zerolinecolor": "white"
           },
           "yaxis": {
            "backgroundcolor": "#E5ECF6",
            "gridcolor": "white",
            "gridwidth": 2,
            "linecolor": "white",
            "showbackground": true,
            "ticks": "",
            "zerolinecolor": "white"
           },
           "zaxis": {
            "backgroundcolor": "#E5ECF6",
            "gridcolor": "white",
            "gridwidth": 2,
            "linecolor": "white",
            "showbackground": true,
            "ticks": "",
            "zerolinecolor": "white"
           }
          },
          "shapedefaults": {
           "line": {
            "color": "#2a3f5f"
           }
          },
          "ternary": {
           "aaxis": {
            "gridcolor": "white",
            "linecolor": "white",
            "ticks": ""
           },
           "baxis": {
            "gridcolor": "white",
            "linecolor": "white",
            "ticks": ""
           },
           "bgcolor": "#E5ECF6",
           "caxis": {
            "gridcolor": "white",
            "linecolor": "white",
            "ticks": ""
           }
          },
          "title": {
           "x": 0.05
          },
          "xaxis": {
           "automargin": true,
           "gridcolor": "white",
           "linecolor": "white",
           "ticks": "",
           "title": {
            "standoff": 15
           },
           "zerolinecolor": "white",
           "zerolinewidth": 2
          },
          "yaxis": {
           "automargin": true,
           "gridcolor": "white",
           "linecolor": "white",
           "ticks": "",
           "title": {
            "standoff": 15
           },
           "zerolinecolor": "white",
           "zerolinewidth": 2
          }
         }
        },
        "title": {
         "text": "Diagramme de dispersion interactif de la longueur des ailes et de la masse corporelle chez 3 espèces de manchot"
        },
        "width": 1100,
        "xaxis": {
         "anchor": "y",
         "domain": [
          0,
          1
         ],
         "title": {
          "text": "longueur des ailes (mm)"
         }
        },
        "yaxis": {
         "anchor": "x",
         "domain": [
          0,
          1
         ],
         "title": {
          "text": "masse corporelle (g)"
         }
        }
       }
      }
     },
     "metadata": {},
     "output_type": "display_data"
    }
   ],
   "source": [
    "fig = px.scatter(penguins, x =\"flipper_length_mm\", y =\"body_mass_g\", color=\"species\", title=\"Diagramme de dispersion interactif de la longueur des ailes et de la masse corporelle chez 3 espèces de manchot\",\n",
    "                labels = {\"flipper_length_mm\" : \"longueur des ailes (mm)\", \"body_mass_g\":\"masse corporelle (g)\", \"bill_length_mm\" : \"longueur du bec (mm)\"}, width=1100, height = 500, hover_name = \"species\", hover_data =[\"sex\",\"bill_length_mm\", \"island\"])\n",
    "fig.show()"
   ]
  },
  {
   "cell_type": "markdown",
   "metadata": {},
   "source": [
    "### 3.2. Exemple de visualisation 3D interactive (10 minutes)"
   ]
  },
  {
   "cell_type": "markdown",
   "metadata": {},
   "source": [
    "Pour finir, nous allons utiliser les possibilités graphiques 3D de plotly pour croiser 3 attributs et obtenir un rendu tel que ci-dessous :\n",
    "\n",
    "<img src=\"graph3d.png\">"
   ]
  },
  {
   "cell_type": "markdown",
   "metadata": {},
   "source": [
    "Utiliser la fonction `scatter_3d` qui en plus des paramètres de `scatter` prend un paramètre `z`. On peut aussi jouer sur les symboles via `symbol`, par exemple pour distinguer le sexe des individus et donc rajouter une \"5e dimension\"."
   ]
  },
  {
   "cell_type": "code",
   "execution_count": 4,
   "metadata": {},
   "outputs": [
    {
     "data": {
      "application/vnd.plotly.v1+json": {
       "config": {
        "plotlyServerURL": "https://plot.ly"
       },
       "data": [
        {
         "customdata": [
          [
           "Torgersen"
          ],
          [
           "Torgersen"
          ],
          [
           "Torgersen"
          ],
          [
           "Torgersen"
          ],
          [
           "Torgersen"
          ],
          [
           "Torgersen"
          ],
          [
           "Torgersen"
          ],
          [
           "Biscoe"
          ],
          [
           "Biscoe"
          ],
          [
           "Biscoe"
          ],
          [
           "Biscoe"
          ],
          [
           "Biscoe"
          ],
          [
           "Dream"
          ],
          [
           "Dream"
          ],
          [
           "Dream"
          ],
          [
           "Dream"
          ],
          [
           "Dream"
          ],
          [
           "Dream"
          ],
          [
           "Dream"
          ],
          [
           "Dream"
          ],
          [
           "Dream"
          ],
          [
           "Dream"
          ],
          [
           "Biscoe"
          ],
          [
           "Biscoe"
          ],
          [
           "Biscoe"
          ],
          [
           "Biscoe"
          ],
          [
           "Biscoe"
          ],
          [
           "Biscoe"
          ],
          [
           "Biscoe"
          ],
          [
           "Biscoe"
          ],
          [
           "Biscoe"
          ],
          [
           "Torgersen"
          ],
          [
           "Torgersen"
          ],
          [
           "Torgersen"
          ],
          [
           "Torgersen"
          ],
          [
           "Torgersen"
          ],
          [
           "Torgersen"
          ],
          [
           "Torgersen"
          ],
          [
           "Torgersen"
          ],
          [
           "Dream"
          ],
          [
           "Dream"
          ],
          [
           "Dream"
          ],
          [
           "Dream"
          ],
          [
           "Dream"
          ],
          [
           "Dream"
          ],
          [
           "Dream"
          ],
          [
           "Dream"
          ],
          [
           "Biscoe"
          ],
          [
           "Biscoe"
          ],
          [
           "Biscoe"
          ],
          [
           "Biscoe"
          ],
          [
           "Biscoe"
          ],
          [
           "Biscoe"
          ],
          [
           "Biscoe"
          ],
          [
           "Biscoe"
          ],
          [
           "Torgersen"
          ],
          [
           "Torgersen"
          ],
          [
           "Torgersen"
          ],
          [
           "Torgersen"
          ],
          [
           "Torgersen"
          ],
          [
           "Torgersen"
          ],
          [
           "Torgersen"
          ],
          [
           "Torgersen"
          ],
          [
           "Dream"
          ],
          [
           "Dream"
          ],
          [
           "Dream"
          ],
          [
           "Dream"
          ],
          [
           "Dream"
          ],
          [
           "Dream"
          ],
          [
           "Dream"
          ],
          [
           "Dream"
          ],
          [
           "Dream"
          ],
          [
           "Dream"
          ]
         ],
         "hovertemplate": "<b>%{hovertext}</b><br><br>species=Adelie<br>sex=Male<br>longueur du bec(mm)=%{x}<br>longueur des ailes (mm)=%{y}<br>masse corporelle (g)=%{z}<br>island=%{customdata[0]}<extra></extra>",
         "hovertext": [
          "Adelie",
          "Adelie",
          "Adelie",
          "Adelie",
          "Adelie",
          "Adelie",
          "Adelie",
          "Adelie",
          "Adelie",
          "Adelie",
          "Adelie",
          "Adelie",
          "Adelie",
          "Adelie",
          "Adelie",
          "Adelie",
          "Adelie",
          "Adelie",
          "Adelie",
          "Adelie",
          "Adelie",
          "Adelie",
          "Adelie",
          "Adelie",
          "Adelie",
          "Adelie",
          "Adelie",
          "Adelie",
          "Adelie",
          "Adelie",
          "Adelie",
          "Adelie",
          "Adelie",
          "Adelie",
          "Adelie",
          "Adelie",
          "Adelie",
          "Adelie",
          "Adelie",
          "Adelie",
          "Adelie",
          "Adelie",
          "Adelie",
          "Adelie",
          "Adelie",
          "Adelie",
          "Adelie",
          "Adelie",
          "Adelie",
          "Adelie",
          "Adelie",
          "Adelie",
          "Adelie",
          "Adelie",
          "Adelie",
          "Adelie",
          "Adelie",
          "Adelie",
          "Adelie",
          "Adelie",
          "Adelie",
          "Adelie",
          "Adelie",
          "Adelie",
          "Adelie",
          "Adelie",
          "Adelie",
          "Adelie",
          "Adelie",
          "Adelie",
          "Adelie",
          "Adelie",
          "Adelie"
         ],
         "legendgroup": "Adelie, Male",
         "marker": {
          "color": "#636efa",
          "symbol": "circle"
         },
         "mode": "markers",
         "name": "Adelie, Male",
         "scene": "scene",
         "showlegend": true,
         "type": "scatter3d",
         "x": {
          "bdata": "zczMzMyMQ0BmZmZmZqZDQJqZmZmZmUNAzczMzMxMQ0DNzMzMzExBQAAAAAAAQEVAAAAAAAAAR0CamZmZmdlCQJqZmZmZGUNAZmZmZmZmQ0DNzMzMzExEQAAAAAAAQERAmpmZmZmZQkAzMzMzM3NEQJqZmZmZmUNAZmZmZmZmQ0BmZmZmZuZDQGZmZmZmZkRAzczMzMwMRkDNzMzMzMxDQM3MzMzMjERAZmZmZmYmRUDNzMzMzAxEQAAAAAAAAEVAMzMzMzOzREDNzMzMzExEQM3MzMzMzEJAZmZmZmamREDNzMzMzIxEQM3MzMzMzERAzczMzMyMREBmZmZmZuZEQJqZmZmZ2UNAZmZmZmbmRkBmZmZmZmZFQJqZmZmZmUJAzczMzMwMRUAzMzMzM3NFQM3MzMzMjEFAZmZmZmamREBmZmZmZiZCQGZmZmZmJkNAzczMzMyMREDNzMzMzMxDQGZmZmZmZkRAZmZmZmYmRECamZmZmZlFQAAAAAAAgERAZmZmZmbmQkCamZmZmdlDQJqZmZmZGUNAmpmZmZmZRUDNzMzMzMxGQJqZmZmZGUVAmpmZmZlZRUBmZmZmZqZCQM3MzMzMjERAmpmZmZnZQkAzMzMzM7NEQM3MzMzMTERAAAAAAADAREDNzMzMzAxGQM3MzMzMjEVAAAAAAADAQkDNzMzMzIxEQJqZmZmZGURAmpmZmZnZQ0DNzMzMzExEQJqZmZmZWURAAAAAAACAQ0CamZmZmZlDQGZmZmZm5kJAAAAAAADAREA=",
          "dtype": "f8"
         },
         "y": {
          "bdata": "AAAAAACgZkAAAAAAAMBnQAAAAAAAYGhAAAAAAADgZ0AAAAAAAMBoQAAAAAAAoGhAAAAAAABAaEAAAAAAAIBmQAAAAAAAIGdAAAAAAACAZkAAAAAAAOBmQAAAAAAAgGZAAAAAAABAZkAAAAAAAABnQAAAAAAAgGhAAAAAAADAZ0AAAAAAAABnQAAAAAAAYGhAAAAAAACAaEAAAAAAAMBnQAAAAAAAwGZAAAAAAADgZ0AAAAAAAIBnQAAAAAAAAGlAAAAAAADgZ0AAAAAAACBoQAAAAAAAQGhAAAAAAABgaEAAAAAAAABoQAAAAAAAAGhAAAAAAACAZ0AAAAAAAMBoQAAAAAAAwGdAAAAAAACgaEAAAAAAAGBoQAAAAAAAAGdAAAAAAABgaEAAAAAAAIBoQAAAAAAAIGhAAAAAAABAaEAAAAAAAMBnQAAAAAAAoGdAAAAAAACgaUAAAAAAAEBnQAAAAAAAAGpAAAAAAACAaEAAAAAAAABoQAAAAAAAYGlAAAAAAADAZ0AAAAAAAABnQAAAAAAAwGdAAAAAAACgaEAAAAAAAOBnQAAAAAAAoGhAAAAAAACAaEAAAAAAAOBoQAAAAAAAoGdAAAAAAADAaEAAAAAAAEBpQAAAAAAA4GhAAAAAAABgaEAAAAAAAEBqQAAAAAAAoGhAAAAAAADgaEAAAAAAAMBnQAAAAAAAAGlAAAAAAAAgaEAAAAAAAGBnQAAAAAAAwGdAAAAAAAAgZ0AAAAAAAMBnQAAAAAAAIGhAAAAAAAAgaUA=",
          "dtype": "f8"
         },
         "z": {
          "bdata": "AAAAAABMrUAAAAAAAISsQAAAAAAAQ7JAAAAAAACwrUAAAAAAADCxQAAAAAAAlLFAAAAAAABosEAAAAAAACCsQAAAAAAA3K5AAAAAAACwrUAAAAAAALyrQAAAAAAA3K5AAAAAAAB4rkAAAAAAAHiuQAAAAAAANrBAAAAAAADcrkAAAAAAACqyQAAAAAAAeK5AAAAAAAAwsUAAAAAAAPixQAAAAAAAwqpAAAAAAAA2sEAAAAAAAMywQAAAAAAApK9AAAAAAADorEAAAAAAALCtQAAAAAAATK1AAAAAAAAwsUAAAAAAAKSvQAAAAAAA3K5AAAAAAAAEsEAAAAAAAGKxQAAAAAAAeK5AAAAAAAA2sEAAAAAAAJqwQAAAAAAAeK5AAAAAAABAr0AAAAAAAFyyQAAAAAAAaLBAAAAAAAC8q0AAAAAAALCtQAAAAAAA3K5AAAAAAADMsEAAAAAAAGKxQAAAAAAAzLBAAAAAAAD+sEAAAAAAAASwQAAAAAAAdbJAAAAAAACasEAAAAAAALyrQAAAAAAAeK5AAAAAAACnskAAAAAAAPixQAAAAAAAs7BAAAAAAADWr0AAAAAAAH6tQAAAAAAA+qlAAAAAAABYq0AAAAAAAEauQAAAAAAAQK9AAAAAAADMsEAAAAAAAECvQAAAAAAAWKtAAAAAAAB7sUAAAAAAAHiuQAAAAAAADq9AAAAAAACasEAAAAAAACarQAAAAAAAGq1AAAAAAACErEAAAAAAAJqwQAAAAAAATK1AAAAAAABAr0A=",
          "dtype": "f8"
         }
        },
        {
         "customdata": [
          [
           "Torgersen"
          ],
          [
           "Torgersen"
          ],
          [
           "Torgersen"
          ],
          [
           "Torgersen"
          ],
          [
           "Torgersen"
          ],
          [
           "Torgersen"
          ],
          [
           "Torgersen"
          ],
          [
           "Torgersen"
          ],
          [
           "Biscoe"
          ],
          [
           "Biscoe"
          ],
          [
           "Biscoe"
          ],
          [
           "Biscoe"
          ],
          [
           "Biscoe"
          ],
          [
           "Dream"
          ],
          [
           "Dream"
          ],
          [
           "Dream"
          ],
          [
           "Dream"
          ],
          [
           "Dream"
          ],
          [
           "Dream"
          ],
          [
           "Dream"
          ],
          [
           "Dream"
          ],
          [
           "Dream"
          ],
          [
           "Biscoe"
          ],
          [
           "Biscoe"
          ],
          [
           "Biscoe"
          ],
          [
           "Biscoe"
          ],
          [
           "Biscoe"
          ],
          [
           "Biscoe"
          ],
          [
           "Biscoe"
          ],
          [
           "Biscoe"
          ],
          [
           "Biscoe"
          ],
          [
           "Torgersen"
          ],
          [
           "Torgersen"
          ],
          [
           "Torgersen"
          ],
          [
           "Torgersen"
          ],
          [
           "Torgersen"
          ],
          [
           "Torgersen"
          ],
          [
           "Torgersen"
          ],
          [
           "Torgersen"
          ],
          [
           "Dream"
          ],
          [
           "Dream"
          ],
          [
           "Dream"
          ],
          [
           "Dream"
          ],
          [
           "Dream"
          ],
          [
           "Dream"
          ],
          [
           "Dream"
          ],
          [
           "Dream"
          ],
          [
           "Biscoe"
          ],
          [
           "Biscoe"
          ],
          [
           "Biscoe"
          ],
          [
           "Biscoe"
          ],
          [
           "Biscoe"
          ],
          [
           "Biscoe"
          ],
          [
           "Biscoe"
          ],
          [
           "Biscoe"
          ],
          [
           "Torgersen"
          ],
          [
           "Torgersen"
          ],
          [
           "Torgersen"
          ],
          [
           "Torgersen"
          ],
          [
           "Torgersen"
          ],
          [
           "Torgersen"
          ],
          [
           "Torgersen"
          ],
          [
           "Torgersen"
          ],
          [
           "Dream"
          ],
          [
           "Dream"
          ],
          [
           "Dream"
          ],
          [
           "Dream"
          ],
          [
           "Dream"
          ],
          [
           "Dream"
          ],
          [
           "Dream"
          ],
          [
           "Dream"
          ],
          [
           "Dream"
          ],
          [
           "Dream"
          ]
         ],
         "hovertemplate": "<b>%{hovertext}</b><br><br>species=Adelie<br>sex=Female<br>longueur du bec(mm)=%{x}<br>longueur des ailes (mm)=%{y}<br>masse corporelle (g)=%{z}<br>island=%{customdata[0]}<extra></extra>",
         "hovertext": [
          "Adelie",
          "Adelie",
          "Adelie",
          "Adelie",
          "Adelie",
          "Adelie",
          "Adelie",
          "Adelie",
          "Adelie",
          "Adelie",
          "Adelie",
          "Adelie",
          "Adelie",
          "Adelie",
          "Adelie",
          "Adelie",
          "Adelie",
          "Adelie",
          "Adelie",
          "Adelie",
          "Adelie",
          "Adelie",
          "Adelie",
          "Adelie",
          "Adelie",
          "Adelie",
          "Adelie",
          "Adelie",
          "Adelie",
          "Adelie",
          "Adelie",
          "Adelie",
          "Adelie",
          "Adelie",
          "Adelie",
          "Adelie",
          "Adelie",
          "Adelie",
          "Adelie",
          "Adelie",
          "Adelie",
          "Adelie",
          "Adelie",
          "Adelie",
          "Adelie",
          "Adelie",
          "Adelie",
          "Adelie",
          "Adelie",
          "Adelie",
          "Adelie",
          "Adelie",
          "Adelie",
          "Adelie",
          "Adelie",
          "Adelie",
          "Adelie",
          "Adelie",
          "Adelie",
          "Adelie",
          "Adelie",
          "Adelie",
          "Adelie",
          "Adelie",
          "Adelie",
          "Adelie",
          "Adelie",
          "Adelie",
          "Adelie",
          "Adelie",
          "Adelie",
          "Adelie",
          "Adelie"
         ],
         "legendgroup": "Adelie, Female",
         "marker": {
          "color": "#636efa",
          "symbol": "diamond"
         },
         "mode": "markers",
         "name": "Adelie, Female",
         "scene": "scene",
         "showlegend": true,
         "type": "scatter3d",
         "x": {
          "bdata": "AAAAAADAQ0BmZmZmZiZEQJqZmZmZWUJAMzMzMzNzQ0DNzMzMzIxEQM3MzMzMTEJAmpmZmZlZQ0AzMzMzMzNBQGZmZmZm5kJAMzMzMzPzQUBmZmZmZqZBQAAAAAAAQERAMzMzMzPzQkAAAAAAAMBDQAAAAAAAwENAMzMzMzMzQkCamZmZmRlFQM3MzMzMzEJAAAAAAABAQkAAAAAAAABCQAAAAAAAgEJAAAAAAAAAQkDNzMzMzMxDQAAAAAAAgEFAAAAAAABAQUAAAAAAAIBDQAAAAAAAQEJAmpmZmZnZQUDNzMzMzMxCQDMzMzMzM0JAAAAAAADAQUAzMzMzM/NBQAAAAAAAwEBAzczMzMzMQ0AAAAAAAMBBQDMzMzMzc0RAmpmZmZkZQkDNzMzMzExBQJqZmZmZWUJAZmZmZmamQkAzMzMzM3NCQDMzMzMzc0NAmpmZmZnZQUAAAAAAAABBQJqZmZmZGUJAzczMzMwMQ0DNzMzMzIxAQAAAAAAAgEFAmpmZmZnZQkAzMzMzM/NCQM3MzMzMTENAzczMzMwMQ0DNzMzMzAxDQJqZmZmZ2UNAzczMzMzMQ0DNzMzMzExDQJqZmZmZ2UFAmpmZmZkZQkCamZmZmRlEQJqZmZmZmUFAZmZmZmZmQ0AAAAAAAIBDQAAAAAAAQENAZmZmZmZmQkDNzMzMzAxDQM3MzMzMzEFAAAAAAACAQkCamZmZmRlEQM3MzMzMDEBAZmZmZmamQkDNzMzMzExCQAAAAAAAAEJAAAAAAAAAQkA=",
          "dtype": "f8"
         },
         "y": {
          "bdata": "AAAAAABAZ0AAAAAAAGBoQAAAAAAAIGhAAAAAAACgZkAAAAAAAMBmQAAAAAAAIGdAAAAAAABgaEAAAAAAAABnQAAAAAAAwGVAAAAAAACgZ0AAAAAAAGBnQAAAAAAAYGdAAAAAAACAZUAAAAAAAEBmQAAAAAAAgGdAAAAAAABgaEAAAAAAAIBmQAAAAAAAoGZAAAAAAADAZkAAAAAAAEBnQAAAAAAAIGdAAAAAAADAZ0AAAAAAAEBnQAAAAAAAwGdAAAAAAABgZ0AAAAAAAEBnQAAAAAAAoGZAAAAAAAAgZ0AAAAAAACBnQAAAAAAAAGdAAAAAAABgaEAAAAAAAMBnQAAAAAAAwGdAAAAAAACAaEAAAAAAAMBnQAAAAAAA4GdAAAAAAABgZ0AAAAAAAKBnQAAAAAAAYGdAAAAAAADgZ0AAAAAAAKBnQAAAAAAAwGdAAAAAAABAaUAAAAAAACBnQAAAAAAAYGdAAAAAAADAZ0AAAAAAAEBmQAAAAAAAAGhAAAAAAADgZkAAAAAAACBoQAAAAAAA4GhAAAAAAACgZkAAAAAAAMBoQAAAAAAAIGhAAAAAAADgZ0AAAAAAAIBnQAAAAAAAoGdAAAAAAABgZ0AAAAAAAABmQAAAAAAAQGdAAAAAAADgZ0AAAAAAAOBnQAAAAAAAwGdAAAAAAAAgaEAAAAAAAGBnQAAAAAAA4GdAAAAAAAAgZ0AAAAAAACBoQAAAAAAAgGdAAAAAAAAAaEAAAAAAAABnQAAAAAAAYGhAAAAAAABgZ0A=",
          "dtype": "f8"
         },
         "z": {
          "bdata": "AAAAAACwrUAAAAAAAGSpQAAAAAAA9KpAAAAAAABSrEAAAAAAAACpQAAAAAAA6KxAAAAAAAD0qkAAAAAAAPqpQAAAAAAAkKpAAAAAAACwrUAAAAAAALCtQAAAAAAAAKlAAAAAAACcqEAAAAAAAGSpQAAAAAAAyKlAAAAAAAD6qUAAAAAAALyrQAAAAAAAyKlAAAAAAACcqEAAAAAAADioQAAAAAAAcKdAAAAAAAD0qkAAAAAAAFirQAAAAAAA9KpAAAAAAACopkAAAAAAALyrQAAAAAAARKZAAAAAAACcqEAAAAAAACCsQAAAAAAARKZAAAAAAAAsqkAAAAAAANSnQAAAAAAAIKxAAAAAAAC8q0AAAAAAAOisQAAAAAAA6KxAAAAAAAC8q0AAAAAAAACpQAAAAAAAsK1AAAAAAAAsqkAAAAAAAFirQAAAAAAAIKxAAAAAAAC8q0AAAAAAAJCqQAAAAAAAyKlAAAAAAADorEAAAAAAAKimQAAAAAAAGq1AAAAAAAAGqEAAAAAAANqmQAAAAAAATK1AAAAAAADOqEAAAAAAAOKtQAAAAAAAAKlAAAAAAAB4rkAAAAAAAKimQAAAAAAALKpAAAAAAACcqEAAAAAAAPSqQAAAAAAA1KdAAAAAAACWqUAAAAAAANSnQAAAAAAA+qlAAAAAAABYq0AAAAAAAMKqQAAAAAAAzqhAAAAAAACQqkAAAAAAAJCqQAAAAAAA1KdAAAAAAABwp0AAAAAAACarQAAAAAAA9KpAAAAAAADorEA=",
          "dtype": "f8"
         }
        },
        {
         "customdata": [
          [
           "Dream"
          ],
          [
           "Dream"
          ],
          [
           "Dream"
          ],
          [
           "Dream"
          ],
          [
           "Dream"
          ],
          [
           "Dream"
          ],
          [
           "Dream"
          ],
          [
           "Dream"
          ],
          [
           "Dream"
          ],
          [
           "Dream"
          ],
          [
           "Dream"
          ],
          [
           "Dream"
          ],
          [
           "Dream"
          ],
          [
           "Dream"
          ],
          [
           "Dream"
          ],
          [
           "Dream"
          ],
          [
           "Dream"
          ],
          [
           "Dream"
          ],
          [
           "Dream"
          ],
          [
           "Dream"
          ],
          [
           "Dream"
          ],
          [
           "Dream"
          ],
          [
           "Dream"
          ],
          [
           "Dream"
          ],
          [
           "Dream"
          ],
          [
           "Dream"
          ],
          [
           "Dream"
          ],
          [
           "Dream"
          ],
          [
           "Dream"
          ],
          [
           "Dream"
          ],
          [
           "Dream"
          ],
          [
           "Dream"
          ],
          [
           "Dream"
          ],
          [
           "Dream"
          ]
         ],
         "hovertemplate": "<b>%{hovertext}</b><br><br>species=Chinstrap<br>sex=Male<br>longueur du bec(mm)=%{x}<br>longueur des ailes (mm)=%{y}<br>masse corporelle (g)=%{z}<br>island=%{customdata[0]}<extra></extra>",
         "hovertext": [
          "Chinstrap",
          "Chinstrap",
          "Chinstrap",
          "Chinstrap",
          "Chinstrap",
          "Chinstrap",
          "Chinstrap",
          "Chinstrap",
          "Chinstrap",
          "Chinstrap",
          "Chinstrap",
          "Chinstrap",
          "Chinstrap",
          "Chinstrap",
          "Chinstrap",
          "Chinstrap",
          "Chinstrap",
          "Chinstrap",
          "Chinstrap",
          "Chinstrap",
          "Chinstrap",
          "Chinstrap",
          "Chinstrap",
          "Chinstrap",
          "Chinstrap",
          "Chinstrap",
          "Chinstrap",
          "Chinstrap",
          "Chinstrap",
          "Chinstrap",
          "Chinstrap",
          "Chinstrap",
          "Chinstrap",
          "Chinstrap"
         ],
         "legendgroup": "Chinstrap, Male",
         "marker": {
          "color": "#EF553B",
          "symbol": "circle"
         },
         "mode": "markers",
         "name": "Chinstrap, Male",
         "scene": "scene",
         "showlegend": true,
         "type": "scatter3d",
         "x": {
          "bdata": "AAAAAAAASUBmZmZmZqZJQJqZmZmZWUpAZmZmZmamSUBmZmZmZqZJQJqZmZmZ2UlAAAAAAAAASkAAAAAAAEBJQGZmZmZmJklAmpmZmZmZSEAAAAAAAEBIQM3MzMzMTElAAAAAAAAASkAAAAAAAMBIQGZmZmZmZkpAmpmZmZkZS0AAAAAAAIBJQJqZmZmZ2UhAAAAAAAAASkAAAAAAAMBKQAAAAAAAgEhAMzMzMzNzSUBmZmZmZmZJQAAAAAAAgEhAAAAAAADASUAzMzMzM7NJQJqZmZmZWUlAmpmZmZkZSkBmZmZmZqZIQJqZmZmZGUlAMzMzMzPzSUBmZmZmZuZLQM3MzMzMzEhAZmZmZmZmSUA=",
          "dtype": "f8"
         },
         "y": {
          "bdata": "AAAAAACAaEAAAAAAACBoQAAAAAAAoGhAAAAAAACgaEAAAAAAAMBoQAAAAAAAQGhAAAAAAAAgaUAAAAAAACBpQAAAAAAAoGhAAAAAAABgaEAAAAAAAOBnQAAAAAAAIGhAAAAAAACgaEAAAAAAAABpQAAAAAAAoGlAAAAAAAAgaUAAAAAAAGBpQAAAAAAAYGhAAAAAAABAakAAAAAAAKBpQAAAAAAAQGpAAAAAAACAaEAAAAAAACBpQAAAAAAAgGpAAAAAAABgZ0AAAAAAACBpQAAAAAAAYGlAAAAAAACgaEAAAAAAAGBpQAAAAAAAQGlAAAAAAADAaUAAAAAAAOBpQAAAAAAAIGhAAAAAAABAakA=",
          "dtype": "f8"
         },
         "z": {
          "bdata": "AAAAAAB4rkAAAAAAAISsQAAAAAAAGq1AAAAAAABMrUAAAAAAAOisQAAAAAAAfq1AAAAAAACkr0AAAAAAAKSvQAAAAAAAyKlAAAAAAAAwsUAAAAAAAJCqQAAAAAAAsK1AAAAAAAA2sEAAAAAAALCtQAAAAAAAxrFAAAAAAADMsEAAAAAAAASwQAAAAAAAIKxAAAAAAADAskAAAAAAAJSxQAAAAAAA3K5AAAAAAAC8q0AAAAAAAGKxQAAAAAAAzLBAAAAAAABkqUAAAAAAANyuQAAAAAAApK9AAAAAAAD0qkAAAAAAAKSvQAAAAAAAsK1AAAAAAADcrkAAAAAAAECvQAAAAAAAfq1AAAAAAAAEsEA=",
          "dtype": "f8"
         }
        },
        {
         "customdata": [
          [
           "Dream"
          ],
          [
           "Dream"
          ],
          [
           "Dream"
          ],
          [
           "Dream"
          ],
          [
           "Dream"
          ],
          [
           "Dream"
          ],
          [
           "Dream"
          ],
          [
           "Dream"
          ],
          [
           "Dream"
          ],
          [
           "Dream"
          ],
          [
           "Dream"
          ],
          [
           "Dream"
          ],
          [
           "Dream"
          ],
          [
           "Dream"
          ],
          [
           "Dream"
          ],
          [
           "Dream"
          ],
          [
           "Dream"
          ],
          [
           "Dream"
          ],
          [
           "Dream"
          ],
          [
           "Dream"
          ],
          [
           "Dream"
          ],
          [
           "Dream"
          ],
          [
           "Dream"
          ],
          [
           "Dream"
          ],
          [
           "Dream"
          ],
          [
           "Dream"
          ],
          [
           "Dream"
          ],
          [
           "Dream"
          ],
          [
           "Dream"
          ],
          [
           "Dream"
          ],
          [
           "Dream"
          ],
          [
           "Dream"
          ],
          [
           "Dream"
          ],
          [
           "Dream"
          ]
         ],
         "hovertemplate": "<b>%{hovertext}</b><br><br>species=Chinstrap<br>sex=Female<br>longueur du bec(mm)=%{x}<br>longueur des ailes (mm)=%{y}<br>masse corporelle (g)=%{z}<br>island=%{customdata[0]}<extra></extra>",
         "hovertext": [
          "Chinstrap",
          "Chinstrap",
          "Chinstrap",
          "Chinstrap",
          "Chinstrap",
          "Chinstrap",
          "Chinstrap",
          "Chinstrap",
          "Chinstrap",
          "Chinstrap",
          "Chinstrap",
          "Chinstrap",
          "Chinstrap",
          "Chinstrap",
          "Chinstrap",
          "Chinstrap",
          "Chinstrap",
          "Chinstrap",
          "Chinstrap",
          "Chinstrap",
          "Chinstrap",
          "Chinstrap",
          "Chinstrap",
          "Chinstrap",
          "Chinstrap",
          "Chinstrap",
          "Chinstrap",
          "Chinstrap",
          "Chinstrap",
          "Chinstrap",
          "Chinstrap",
          "Chinstrap",
          "Chinstrap",
          "Chinstrap"
         ],
         "legendgroup": "Chinstrap, Female",
         "marker": {
          "color": "#EF553B",
          "symbol": "diamond"
         },
         "mode": "markers",
         "name": "Chinstrap, Female",
         "scene": "scene",
         "showlegend": true,
         "type": "scatter3d",
         "x": {
          "bdata": "AAAAAABAR0AzMzMzM7NGQJqZmZmZmUZAzczMzMwMR0AAAAAAAABHQM3MzMzMTEdAAAAAAACAR0AzMzMzM/NGQAAAAAAAAE1AMzMzMzMzR0AzMzMzMzNFQJqZmZmZmUVAmpmZmZlZR0AAAAAAAEBJQDMzMzMzM0dAMzMzMzNzREAAAAAAAEBFQAAAAAAAwEdAzczMzMzMR0AzMzMzM3NHQJqZmZmZGUdAAAAAAADARkAzMzMzM3NJQM3MzMzMDElAZmZmZmbmSEDNzMzMzAxIQJqZmZmZ2UZAAAAAAABARUCamZmZmZlGQM3MzMzMzEZAZmZmZmZmR0CamZmZmdlGQAAAAAAAwEVAmpmZmZkZSUA=",
          "dtype": "f8"
         },
         "y": {
          "bdata": "AAAAAAAAaEAAAAAAAIBnQAAAAAAAwGhAAAAAAABAZkAAAAAAAGBoQAAAAAAAIGhAAAAAAAAgZ0AAAAAAAMBnQAAAAAAAoGZAAAAAAADAZ0AAAAAAAKBmQAAAAAAAYGdAAAAAAABgaEAAAAAAAABpQAAAAAAA4GdAAAAAAABgZ0AAAAAAAGBnQAAAAAAA4GhAAAAAAABgaEAAAAAAAABoQAAAAAAAYGdAAAAAAACAaEAAAAAAAIBoQAAAAAAAwGdAAAAAAADAaEAAAAAAAOBoQAAAAAAAIGhAAAAAAABgZ0AAAAAAAOBnQAAAAAAAQGhAAAAAAACgZ0AAAAAAAGBoQAAAAAAAQGlAAAAAAADAaEA=",
          "dtype": "f8"
         },
         "z": {
          "bdata": "AAAAAABYq0AAAAAAAIqrQAAAAAAA3K5AAAAAAABkqUAAAAAAADawQAAAAAAAsK1AAAAAAADorEAAAAAAAO6rQAAAAAAA6KxAAAAAAAD0qkAAAAAAACCsQAAAAAAAqKZAAAAAAADIqUAAAAAAAJCqQAAAAAAA6KxAAAAAAAAAqUAAAAAAACyqQAAAAAAAeK5AAAAAAAAUrkAAAAAAABilQAAAAAAAhKxAAAAAAABYq0AAAAAAALasQAAAAAAAkKpAAAAAAAC2rEAAAAAAAPqpQAAAAAAAIKxAAAAAAAAsqkAAAAAAAGSpQAAAAAAAiqtAAAAAAACErEAAAAAAAISsQAAAAAAAkKpAAAAAAAB+rUA=",
          "dtype": "f8"
         }
        },
        {
         "customdata": [
          [
           "Biscoe"
          ],
          [
           "Biscoe"
          ],
          [
           "Biscoe"
          ],
          [
           "Biscoe"
          ],
          [
           "Biscoe"
          ],
          [
           "Biscoe"
          ],
          [
           "Biscoe"
          ],
          [
           "Biscoe"
          ],
          [
           "Biscoe"
          ],
          [
           "Biscoe"
          ],
          [
           "Biscoe"
          ],
          [
           "Biscoe"
          ],
          [
           "Biscoe"
          ],
          [
           "Biscoe"
          ],
          [
           "Biscoe"
          ],
          [
           "Biscoe"
          ],
          [
           "Biscoe"
          ],
          [
           "Biscoe"
          ],
          [
           "Biscoe"
          ],
          [
           "Biscoe"
          ],
          [
           "Biscoe"
          ],
          [
           "Biscoe"
          ],
          [
           "Biscoe"
          ],
          [
           "Biscoe"
          ],
          [
           "Biscoe"
          ],
          [
           "Biscoe"
          ],
          [
           "Biscoe"
          ],
          [
           "Biscoe"
          ],
          [
           "Biscoe"
          ],
          [
           "Biscoe"
          ],
          [
           "Biscoe"
          ],
          [
           "Biscoe"
          ],
          [
           "Biscoe"
          ],
          [
           "Biscoe"
          ],
          [
           "Biscoe"
          ],
          [
           "Biscoe"
          ],
          [
           "Biscoe"
          ],
          [
           "Biscoe"
          ],
          [
           "Biscoe"
          ],
          [
           "Biscoe"
          ],
          [
           "Biscoe"
          ],
          [
           "Biscoe"
          ],
          [
           "Biscoe"
          ],
          [
           "Biscoe"
          ],
          [
           "Biscoe"
          ],
          [
           "Biscoe"
          ],
          [
           "Biscoe"
          ],
          [
           "Biscoe"
          ],
          [
           "Biscoe"
          ],
          [
           "Biscoe"
          ],
          [
           "Biscoe"
          ],
          [
           "Biscoe"
          ],
          [
           "Biscoe"
          ],
          [
           "Biscoe"
          ],
          [
           "Biscoe"
          ],
          [
           "Biscoe"
          ],
          [
           "Biscoe"
          ],
          [
           "Biscoe"
          ],
          [
           "Biscoe"
          ],
          [
           "Biscoe"
          ],
          [
           "Biscoe"
          ]
         ],
         "hovertemplate": "<b>%{hovertext}</b><br><br>species=Gentoo<br>sex=Male<br>longueur du bec(mm)=%{x}<br>longueur des ailes (mm)=%{y}<br>masse corporelle (g)=%{z}<br>island=%{customdata[0]}<extra></extra>",
         "hovertext": [
          "Gentoo",
          "Gentoo",
          "Gentoo",
          "Gentoo",
          "Gentoo",
          "Gentoo",
          "Gentoo",
          "Gentoo",
          "Gentoo",
          "Gentoo",
          "Gentoo",
          "Gentoo",
          "Gentoo",
          "Gentoo",
          "Gentoo",
          "Gentoo",
          "Gentoo",
          "Gentoo",
          "Gentoo",
          "Gentoo",
          "Gentoo",
          "Gentoo",
          "Gentoo",
          "Gentoo",
          "Gentoo",
          "Gentoo",
          "Gentoo",
          "Gentoo",
          "Gentoo",
          "Gentoo",
          "Gentoo",
          "Gentoo",
          "Gentoo",
          "Gentoo",
          "Gentoo",
          "Gentoo",
          "Gentoo",
          "Gentoo",
          "Gentoo",
          "Gentoo",
          "Gentoo",
          "Gentoo",
          "Gentoo",
          "Gentoo",
          "Gentoo",
          "Gentoo",
          "Gentoo",
          "Gentoo",
          "Gentoo",
          "Gentoo",
          "Gentoo",
          "Gentoo",
          "Gentoo",
          "Gentoo",
          "Gentoo",
          "Gentoo",
          "Gentoo",
          "Gentoo",
          "Gentoo",
          "Gentoo",
          "Gentoo"
         ],
         "legendgroup": "Gentoo, Male",
         "marker": {
          "color": "#00cc96",
          "symbol": "circle"
         },
         "mode": "markers",
         "name": "Gentoo, Male",
         "scene": "scene",
         "showlegend": true,
         "type": "scatter3d",
         "x": {
          "bdata": "AAAAAAAASUAAAAAAAABJQM3MzMzMzEdAmpmZmZlZR0BmZmZmZmZHQAAAAAAAgEhAMzMzMzMzSEBmZmZmZqZIQJqZmZmZmUhAmpmZmZlZSECamZmZmRlJQGZmZmZmJkdAzczMzMwMR0BmZmZmZuZHQAAAAAAAAElAZmZmZmamR0DNzMzMzMxNQDMzMzMzM0hAMzMzMzMzRkCamZmZmVlIQM3MzMzMzEhAzczMzMzMSEAAAAAAAEBJQAAAAAAAQElAmpmZmZmZRkAAAAAAAEBIQM3MzMzMDElAAAAAAACARkAAAAAAAMBGQDMzMzMzM0lAmpmZmZkZR0BmZmZmZiZLQGZmZmZm5khAAAAAAADASECamZmZmVlJQDMzMzMzM0dAmpmZmZkZSEDNzMzMzExIQM3MzMzMjElAmpmZmZmZRkAAAAAAAEBKQAAAAAAAAElAZmZmZmZmSUBmZmZmZqZJQM3MzMzMDEpAmpmZmZkZSkAAAAAAAMBIQGZmZmZmZklAMzMzMzOzSEDNzMzMzIxJQDMzMzMz80tAzczMzMyMSEBmZmZmZmZHQDMzMzMzs0pAzczMzMwMSEBmZmZmZuZIQAAAAAAAwElAzczMzMyMS0BmZmZmZmZIQDMzMzMzM0lAMzMzMzPzSEA=",
          "dtype": "f8"
         },
         "y": {
          "bdata": "AAAAAADAbEAAAAAAAEBrQAAAAAAA4GpAAAAAAABga0AAAAAAAOBqQAAAAAAAAGtAAAAAAACgakAAAAAAACBrQAAAAAAAoGtAAAAAAADAa0AAAAAAAEBrQAAAAAAA4GpAAAAAAADgakAAAAAAAOBqQAAAAAAAgGtAAAAAAADAa0AAAAAAAMBsQAAAAAAAgGtAAAAAAABga0AAAAAAAABqQAAAAAAAIGxAAAAAAAAAa0AAAAAAAMBrQAAAAAAAIGxAAAAAAADgakAAAAAAAIBrQAAAAAAAIGxAAAAAAACAa0AAAAAAAIBrQAAAAAAAAGxAAAAAAACga0AAAAAAAOBsQAAAAAAAwGxAAAAAAACgbEAAAAAAAOBrQAAAAAAAoGtAAAAAAACga0AAAAAAAMBsQAAAAAAAgGtAAAAAAADga0AAAAAAAKBrQAAAAAAAAGxAAAAAAACAbEAAAAAAAEBrQAAAAAAAwGxAAAAAAACAbEAAAAAAAABsQAAAAAAAQGxAAAAAAAAAa0AAAAAAACBsQAAAAAAAgGxAAAAAAACAbEAAAAAAAOBqQAAAAAAAYGtAAAAAAAAgakAAAAAAAKBsQAAAAAAAwGxAAAAAAADAbEAAAAAAAMBrQAAAAAAAwGtAAAAAAACgakA=",
          "dtype": "f8"
         },
         "z": {
          "bdata": "AAAAAABEtkAAAAAAAES2QAAAAAAAGLVAAAAAAABQtEAAAAAAAB60QAAAAAAArrVAAAAAAADatkAAAAAAANq2QAAAAAAAnLhAAAAAAADmtEAAAAAAAES2QAAAAAAAurNAAAAAAADss0AAAAAAABK2QAAAAAAArrVAAAAAAACCtEAAAAAAAKK3QAAAAAAAGLVAAAAAAACCtEAAAAAAAOa0QAAAAAAARLZAAAAAAACOskAAAAAAAK61QAAAAAAAGLVAAAAAAAC0tEAAAAAAALS0QAAAAAAAiLNAAAAAAAC6s0AAAAAAAIizQAAAAAAArrVAAAAAAAC0tEAAAAAAABK2QAAAAAAARLZAAAAAAACotkAAAAAAAK61QAAAAAAAiLNAAAAAAADss0AAAAAAAKi2QAAAAAAAcLdAAAAAAAA+t0AAAAAAAEq1QAAAAAAA5rRAAAAAAADgtUAAAAAAALS0QAAAAAAArrVAAAAAAAAYtUAAAAAAABK2QAAAAAAAULRAAAAAAAA9s0AAAAAAAIK0QAAAAAAA4LVAAAAAAAB8tUAAAAAAAHy1QAAAAAAAfLVAAAAAAAB8tUAAAAAAAD63QAAAAAAAfLVAAAAAAADatkAAAAAAAHC3QAAAAAAAdrZAAAAAAAAYtUA=",
          "dtype": "f8"
         }
        },
        {
         "customdata": [
          [
           "Biscoe"
          ],
          [
           "Biscoe"
          ],
          [
           "Biscoe"
          ],
          [
           "Biscoe"
          ],
          [
           "Biscoe"
          ],
          [
           "Biscoe"
          ],
          [
           "Biscoe"
          ],
          [
           "Biscoe"
          ],
          [
           "Biscoe"
          ],
          [
           "Biscoe"
          ],
          [
           "Biscoe"
          ],
          [
           "Biscoe"
          ],
          [
           "Biscoe"
          ],
          [
           "Biscoe"
          ],
          [
           "Biscoe"
          ],
          [
           "Biscoe"
          ],
          [
           "Biscoe"
          ],
          [
           "Biscoe"
          ],
          [
           "Biscoe"
          ],
          [
           "Biscoe"
          ],
          [
           "Biscoe"
          ],
          [
           "Biscoe"
          ],
          [
           "Biscoe"
          ],
          [
           "Biscoe"
          ],
          [
           "Biscoe"
          ],
          [
           "Biscoe"
          ],
          [
           "Biscoe"
          ],
          [
           "Biscoe"
          ],
          [
           "Biscoe"
          ],
          [
           "Biscoe"
          ],
          [
           "Biscoe"
          ],
          [
           "Biscoe"
          ],
          [
           "Biscoe"
          ],
          [
           "Biscoe"
          ],
          [
           "Biscoe"
          ],
          [
           "Biscoe"
          ],
          [
           "Biscoe"
          ],
          [
           "Biscoe"
          ],
          [
           "Biscoe"
          ],
          [
           "Biscoe"
          ],
          [
           "Biscoe"
          ],
          [
           "Biscoe"
          ],
          [
           "Biscoe"
          ],
          [
           "Biscoe"
          ],
          [
           "Biscoe"
          ],
          [
           "Biscoe"
          ],
          [
           "Biscoe"
          ],
          [
           "Biscoe"
          ],
          [
           "Biscoe"
          ],
          [
           "Biscoe"
          ],
          [
           "Biscoe"
          ],
          [
           "Biscoe"
          ],
          [
           "Biscoe"
          ],
          [
           "Biscoe"
          ],
          [
           "Biscoe"
          ],
          [
           "Biscoe"
          ],
          [
           "Biscoe"
          ],
          [
           "Biscoe"
          ]
         ],
         "hovertemplate": "<b>%{hovertext}</b><br><br>species=Gentoo<br>sex=Female<br>longueur du bec(mm)=%{x}<br>longueur des ailes (mm)=%{y}<br>masse corporelle (g)=%{z}<br>island=%{customdata[0]}<extra></extra>",
         "hovertext": [
          "Gentoo",
          "Gentoo",
          "Gentoo",
          "Gentoo",
          "Gentoo",
          "Gentoo",
          "Gentoo",
          "Gentoo",
          "Gentoo",
          "Gentoo",
          "Gentoo",
          "Gentoo",
          "Gentoo",
          "Gentoo",
          "Gentoo",
          "Gentoo",
          "Gentoo",
          "Gentoo",
          "Gentoo",
          "Gentoo",
          "Gentoo",
          "Gentoo",
          "Gentoo",
          "Gentoo",
          "Gentoo",
          "Gentoo",
          "Gentoo",
          "Gentoo",
          "Gentoo",
          "Gentoo",
          "Gentoo",
          "Gentoo",
          "Gentoo",
          "Gentoo",
          "Gentoo",
          "Gentoo",
          "Gentoo",
          "Gentoo",
          "Gentoo",
          "Gentoo",
          "Gentoo",
          "Gentoo",
          "Gentoo",
          "Gentoo",
          "Gentoo",
          "Gentoo",
          "Gentoo",
          "Gentoo",
          "Gentoo",
          "Gentoo",
          "Gentoo",
          "Gentoo",
          "Gentoo",
          "Gentoo",
          "Gentoo",
          "Gentoo",
          "Gentoo",
          "Gentoo"
         ],
         "legendgroup": "Gentoo, Female",
         "marker": {
          "color": "#00cc96",
          "symbol": "diamond"
         },
         "mode": "markers",
         "name": "Gentoo, Female",
         "scene": "scene",
         "showlegend": true,
         "type": "scatter3d",
         "x": {
          "bdata": "zczMzMwMR0CamZmZmVlIQAAAAAAAQEdAMzMzMzOzRkBmZmZmZqZFQDMzMzMzc0RAAAAAAADARkBmZmZmZuZGQAAAAAAAAEVAmpmZmZkZR0DNzMzMzIxGQAAAAAAAQEdAMzMzMzNzRUCamZmZmRlIQGZmZmZmZkVAzczMzMyMRkDNzMzMzIxIQM3MzMzMTEVAAAAAAAAARkCamZmZmVlFQGZmZmZmpkZAzczMzMzMRUAAAAAAAMBGQDMzMzMzc0ZAzczMzMxMR0DNzMzMzIxGQAAAAAAAQEdAZmZmZmbmRUCamZmZmZlFQGZmZmZmpkZAmpmZmZnZRkBmZmZmZuZGQAAAAAAAwEVAmpmZmZnZR0AAAAAAAEBHQDMzMzMzM0dAAAAAAADAR0CamZmZmZlGQM3MzMzMjEhAMzMzMzOzR0AzMzMzM3NGQDMzMzMzs0VAAAAAAADAR0AAAAAAAMBHQAAAAAAAwEZAAAAAAABARkAzMzMzM3NHQDMzMzMzM0hAAAAAAABASECamZmZmZlHQJqZmZmZ2URAZmZmZmamRUAAAAAAAEBJQAAAAAAAwEVAmpmZmZkZR0CamZmZmZlHQGZmZmZmZkdAmpmZmZmZRkA=",
          "dtype": "f8"
         },
         "y": {
          "bdata": "AAAAAABgakAAAAAAAEBqQAAAAAAAQGpAAAAAAABgakAAAAAAACBqQAAAAAAAwGpAAAAAAADAakAAAAAAAEBqQAAAAAAAQGpAAAAAAAAgakAAAAAAAOBqQAAAAAAAoGpAAAAAAADgakAAAAAAAEBqQAAAAAAAIGpAAAAAAADgaUAAAAAAAIBrQAAAAAAAoGpAAAAAAAAAakAAAAAAAABqQAAAAAAAQGpAAAAAAAAga0AAAAAAAEBqQAAAAAAAoGpAAAAAAABAakAAAAAAAEBqQAAAAAAAIGtAAAAAAAAAakAAAAAAAABqQAAAAAAAAGpAAAAAAADAakAAAAAAAGBrQAAAAAAAgGtAAAAAAAAAa0AAAAAAACBrQAAAAAAAAGtAAAAAAAAgakAAAAAAAOBqQAAAAAAAgGpAAAAAAACAakAAAAAAAIBqQAAAAAAAQGtAAAAAAACAakAAAAAAAEBrQAAAAAAAgGpAAAAAAADAakAAAAAAAMBrQAAAAAAAYGlAAAAAAABga0AAAAAAAOBqQAAAAAAAQGpAAAAAAAAAakAAAAAAAABrQAAAAAAAoGpAAAAAAAAga0AAAAAAAMBqQAAAAAAA4GpAAAAAAACAakA=",
          "dtype": "f8"
         },
         "z": {
          "bdata": "AAAAAACUsUAAAAAAAGKxQAAAAAAAxrFAAAAAAADAskAAAAAAADCxQAAAAAAAKrJAAAAAAAAqskAAAAAAAGiwQAAAAAAANrBAAAAAAADAskAAAAAAAIizQAAAAAAAMLFAAAAAAACIs0AAAAAAAPixQAAAAAAAXLJAAAAAAAC6s0AAAAAAAB60QAAAAAAAVrNAAAAAAAD+sEAAAAAAANyuQAAAAAAAzLBAAAAAAAAks0AAAAAAAGiwQAAAAAAA7LNAAAAAAADyskAAAAAAADCxQAAAAAAAJLNAAAAAAADMsEAAAAAAAGKxQAAAAAAAaLBAAAAAAAAwsUAAAAAAAFyyQAAAAAAAXLJAAAAAAACOskAAAAAAAFC0QAAAAAAAXLJAAAAAAAD4sUAAAAAAAI6yQAAAAAAAEbJAAAAAAAB1skAAAAAAAI6yQAAAAAAA+LFAAAAAAAALs0AAAAAAAFazQAAAAAAAjrJAAAAAAADyskAAAAAAAAuzQAAAAAAAEbJAAAAAAADyskAAAAAAAG+zQAAAAAAAXLJAAAAAAADfsUAAAAAAAIizQAAAAAAAKrJAAAAAAAAXsUAAAAAAAD2zQAAAAAAA8rJAAAAAAABQtEA=",
          "dtype": "f8"
         }
        }
       ],
       "layout": {
        "legend": {
         "title": {
          "text": "species, sex"
         },
         "tracegroupgap": 0
        },
        "scene": {
         "domain": {
          "x": [
           0,
           1
          ],
          "y": [
           0,
           1
          ]
         },
         "xaxis": {
          "title": {
           "text": "longueur du bec(mm)"
          }
         },
         "yaxis": {
          "title": {
           "text": "longueur des ailes (mm)"
          }
         },
         "zaxis": {
          "title": {
           "text": "masse corporelle (g)"
          }
         }
        },
        "template": {
         "data": {
          "bar": [
           {
            "error_x": {
             "color": "#2a3f5f"
            },
            "error_y": {
             "color": "#2a3f5f"
            },
            "marker": {
             "line": {
              "color": "#E5ECF6",
              "width": 0.5
             },
             "pattern": {
              "fillmode": "overlay",
              "size": 10,
              "solidity": 0.2
             }
            },
            "type": "bar"
           }
          ],
          "barpolar": [
           {
            "marker": {
             "line": {
              "color": "#E5ECF6",
              "width": 0.5
             },
             "pattern": {
              "fillmode": "overlay",
              "size": 10,
              "solidity": 0.2
             }
            },
            "type": "barpolar"
           }
          ],
          "carpet": [
           {
            "aaxis": {
             "endlinecolor": "#2a3f5f",
             "gridcolor": "white",
             "linecolor": "white",
             "minorgridcolor": "white",
             "startlinecolor": "#2a3f5f"
            },
            "baxis": {
             "endlinecolor": "#2a3f5f",
             "gridcolor": "white",
             "linecolor": "white",
             "minorgridcolor": "white",
             "startlinecolor": "#2a3f5f"
            },
            "type": "carpet"
           }
          ],
          "choropleth": [
           {
            "colorbar": {
             "outlinewidth": 0,
             "ticks": ""
            },
            "type": "choropleth"
           }
          ],
          "contour": [
           {
            "colorbar": {
             "outlinewidth": 0,
             "ticks": ""
            },
            "colorscale": [
             [
              0,
              "#0d0887"
             ],
             [
              0.1111111111111111,
              "#46039f"
             ],
             [
              0.2222222222222222,
              "#7201a8"
             ],
             [
              0.3333333333333333,
              "#9c179e"
             ],
             [
              0.4444444444444444,
              "#bd3786"
             ],
             [
              0.5555555555555556,
              "#d8576b"
             ],
             [
              0.6666666666666666,
              "#ed7953"
             ],
             [
              0.7777777777777778,
              "#fb9f3a"
             ],
             [
              0.8888888888888888,
              "#fdca26"
             ],
             [
              1,
              "#f0f921"
             ]
            ],
            "type": "contour"
           }
          ],
          "contourcarpet": [
           {
            "colorbar": {
             "outlinewidth": 0,
             "ticks": ""
            },
            "type": "contourcarpet"
           }
          ],
          "heatmap": [
           {
            "colorbar": {
             "outlinewidth": 0,
             "ticks": ""
            },
            "colorscale": [
             [
              0,
              "#0d0887"
             ],
             [
              0.1111111111111111,
              "#46039f"
             ],
             [
              0.2222222222222222,
              "#7201a8"
             ],
             [
              0.3333333333333333,
              "#9c179e"
             ],
             [
              0.4444444444444444,
              "#bd3786"
             ],
             [
              0.5555555555555556,
              "#d8576b"
             ],
             [
              0.6666666666666666,
              "#ed7953"
             ],
             [
              0.7777777777777778,
              "#fb9f3a"
             ],
             [
              0.8888888888888888,
              "#fdca26"
             ],
             [
              1,
              "#f0f921"
             ]
            ],
            "type": "heatmap"
           }
          ],
          "histogram": [
           {
            "marker": {
             "pattern": {
              "fillmode": "overlay",
              "size": 10,
              "solidity": 0.2
             }
            },
            "type": "histogram"
           }
          ],
          "histogram2d": [
           {
            "colorbar": {
             "outlinewidth": 0,
             "ticks": ""
            },
            "colorscale": [
             [
              0,
              "#0d0887"
             ],
             [
              0.1111111111111111,
              "#46039f"
             ],
             [
              0.2222222222222222,
              "#7201a8"
             ],
             [
              0.3333333333333333,
              "#9c179e"
             ],
             [
              0.4444444444444444,
              "#bd3786"
             ],
             [
              0.5555555555555556,
              "#d8576b"
             ],
             [
              0.6666666666666666,
              "#ed7953"
             ],
             [
              0.7777777777777778,
              "#fb9f3a"
             ],
             [
              0.8888888888888888,
              "#fdca26"
             ],
             [
              1,
              "#f0f921"
             ]
            ],
            "type": "histogram2d"
           }
          ],
          "histogram2dcontour": [
           {
            "colorbar": {
             "outlinewidth": 0,
             "ticks": ""
            },
            "colorscale": [
             [
              0,
              "#0d0887"
             ],
             [
              0.1111111111111111,
              "#46039f"
             ],
             [
              0.2222222222222222,
              "#7201a8"
             ],
             [
              0.3333333333333333,
              "#9c179e"
             ],
             [
              0.4444444444444444,
              "#bd3786"
             ],
             [
              0.5555555555555556,
              "#d8576b"
             ],
             [
              0.6666666666666666,
              "#ed7953"
             ],
             [
              0.7777777777777778,
              "#fb9f3a"
             ],
             [
              0.8888888888888888,
              "#fdca26"
             ],
             [
              1,
              "#f0f921"
             ]
            ],
            "type": "histogram2dcontour"
           }
          ],
          "mesh3d": [
           {
            "colorbar": {
             "outlinewidth": 0,
             "ticks": ""
            },
            "type": "mesh3d"
           }
          ],
          "parcoords": [
           {
            "line": {
             "colorbar": {
              "outlinewidth": 0,
              "ticks": ""
             }
            },
            "type": "parcoords"
           }
          ],
          "pie": [
           {
            "automargin": true,
            "type": "pie"
           }
          ],
          "scatter": [
           {
            "fillpattern": {
             "fillmode": "overlay",
             "size": 10,
             "solidity": 0.2
            },
            "type": "scatter"
           }
          ],
          "scatter3d": [
           {
            "line": {
             "colorbar": {
              "outlinewidth": 0,
              "ticks": ""
             }
            },
            "marker": {
             "colorbar": {
              "outlinewidth": 0,
              "ticks": ""
             }
            },
            "type": "scatter3d"
           }
          ],
          "scattercarpet": [
           {
            "marker": {
             "colorbar": {
              "outlinewidth": 0,
              "ticks": ""
             }
            },
            "type": "scattercarpet"
           }
          ],
          "scattergeo": [
           {
            "marker": {
             "colorbar": {
              "outlinewidth": 0,
              "ticks": ""
             }
            },
            "type": "scattergeo"
           }
          ],
          "scattergl": [
           {
            "marker": {
             "colorbar": {
              "outlinewidth": 0,
              "ticks": ""
             }
            },
            "type": "scattergl"
           }
          ],
          "scattermap": [
           {
            "marker": {
             "colorbar": {
              "outlinewidth": 0,
              "ticks": ""
             }
            },
            "type": "scattermap"
           }
          ],
          "scattermapbox": [
           {
            "marker": {
             "colorbar": {
              "outlinewidth": 0,
              "ticks": ""
             }
            },
            "type": "scattermapbox"
           }
          ],
          "scatterpolar": [
           {
            "marker": {
             "colorbar": {
              "outlinewidth": 0,
              "ticks": ""
             }
            },
            "type": "scatterpolar"
           }
          ],
          "scatterpolargl": [
           {
            "marker": {
             "colorbar": {
              "outlinewidth": 0,
              "ticks": ""
             }
            },
            "type": "scatterpolargl"
           }
          ],
          "scatterternary": [
           {
            "marker": {
             "colorbar": {
              "outlinewidth": 0,
              "ticks": ""
             }
            },
            "type": "scatterternary"
           }
          ],
          "surface": [
           {
            "colorbar": {
             "outlinewidth": 0,
             "ticks": ""
            },
            "colorscale": [
             [
              0,
              "#0d0887"
             ],
             [
              0.1111111111111111,
              "#46039f"
             ],
             [
              0.2222222222222222,
              "#7201a8"
             ],
             [
              0.3333333333333333,
              "#9c179e"
             ],
             [
              0.4444444444444444,
              "#bd3786"
             ],
             [
              0.5555555555555556,
              "#d8576b"
             ],
             [
              0.6666666666666666,
              "#ed7953"
             ],
             [
              0.7777777777777778,
              "#fb9f3a"
             ],
             [
              0.8888888888888888,
              "#fdca26"
             ],
             [
              1,
              "#f0f921"
             ]
            ],
            "type": "surface"
           }
          ],
          "table": [
           {
            "cells": {
             "fill": {
              "color": "#EBF0F8"
             },
             "line": {
              "color": "white"
             }
            },
            "header": {
             "fill": {
              "color": "#C8D4E3"
             },
             "line": {
              "color": "white"
             }
            },
            "type": "table"
           }
          ]
         },
         "layout": {
          "annotationdefaults": {
           "arrowcolor": "#2a3f5f",
           "arrowhead": 0,
           "arrowwidth": 1
          },
          "autotypenumbers": "strict",
          "coloraxis": {
           "colorbar": {
            "outlinewidth": 0,
            "ticks": ""
           }
          },
          "colorscale": {
           "diverging": [
            [
             0,
             "#8e0152"
            ],
            [
             0.1,
             "#c51b7d"
            ],
            [
             0.2,
             "#de77ae"
            ],
            [
             0.3,
             "#f1b6da"
            ],
            [
             0.4,
             "#fde0ef"
            ],
            [
             0.5,
             "#f7f7f7"
            ],
            [
             0.6,
             "#e6f5d0"
            ],
            [
             0.7,
             "#b8e186"
            ],
            [
             0.8,
             "#7fbc41"
            ],
            [
             0.9,
             "#4d9221"
            ],
            [
             1,
             "#276419"
            ]
           ],
           "sequential": [
            [
             0,
             "#0d0887"
            ],
            [
             0.1111111111111111,
             "#46039f"
            ],
            [
             0.2222222222222222,
             "#7201a8"
            ],
            [
             0.3333333333333333,
             "#9c179e"
            ],
            [
             0.4444444444444444,
             "#bd3786"
            ],
            [
             0.5555555555555556,
             "#d8576b"
            ],
            [
             0.6666666666666666,
             "#ed7953"
            ],
            [
             0.7777777777777778,
             "#fb9f3a"
            ],
            [
             0.8888888888888888,
             "#fdca26"
            ],
            [
             1,
             "#f0f921"
            ]
           ],
           "sequentialminus": [
            [
             0,
             "#0d0887"
            ],
            [
             0.1111111111111111,
             "#46039f"
            ],
            [
             0.2222222222222222,
             "#7201a8"
            ],
            [
             0.3333333333333333,
             "#9c179e"
            ],
            [
             0.4444444444444444,
             "#bd3786"
            ],
            [
             0.5555555555555556,
             "#d8576b"
            ],
            [
             0.6666666666666666,
             "#ed7953"
            ],
            [
             0.7777777777777778,
             "#fb9f3a"
            ],
            [
             0.8888888888888888,
             "#fdca26"
            ],
            [
             1,
             "#f0f921"
            ]
           ]
          },
          "colorway": [
           "#636efa",
           "#EF553B",
           "#00cc96",
           "#ab63fa",
           "#FFA15A",
           "#19d3f3",
           "#FF6692",
           "#B6E880",
           "#FF97FF",
           "#FECB52"
          ],
          "font": {
           "color": "#2a3f5f"
          },
          "geo": {
           "bgcolor": "white",
           "lakecolor": "white",
           "landcolor": "#E5ECF6",
           "showlakes": true,
           "showland": true,
           "subunitcolor": "white"
          },
          "hoverlabel": {
           "align": "left"
          },
          "hovermode": "closest",
          "mapbox": {
           "style": "light"
          },
          "paper_bgcolor": "white",
          "plot_bgcolor": "#E5ECF6",
          "polar": {
           "angularaxis": {
            "gridcolor": "white",
            "linecolor": "white",
            "ticks": ""
           },
           "bgcolor": "#E5ECF6",
           "radialaxis": {
            "gridcolor": "white",
            "linecolor": "white",
            "ticks": ""
           }
          },
          "scene": {
           "xaxis": {
            "backgroundcolor": "#E5ECF6",
            "gridcolor": "white",
            "gridwidth": 2,
            "linecolor": "white",
            "showbackground": true,
            "ticks": "",
            "zerolinecolor": "white"
           },
           "yaxis": {
            "backgroundcolor": "#E5ECF6",
            "gridcolor": "white",
            "gridwidth": 2,
            "linecolor": "white",
            "showbackground": true,
            "ticks": "",
            "zerolinecolor": "white"
           },
           "zaxis": {
            "backgroundcolor": "#E5ECF6",
            "gridcolor": "white",
            "gridwidth": 2,
            "linecolor": "white",
            "showbackground": true,
            "ticks": "",
            "zerolinecolor": "white"
           }
          },
          "shapedefaults": {
           "line": {
            "color": "#2a3f5f"
           }
          },
          "ternary": {
           "aaxis": {
            "gridcolor": "white",
            "linecolor": "white",
            "ticks": ""
           },
           "baxis": {
            "gridcolor": "white",
            "linecolor": "white",
            "ticks": ""
           },
           "bgcolor": "#E5ECF6",
           "caxis": {
            "gridcolor": "white",
            "linecolor": "white",
            "ticks": ""
           }
          },
          "title": {
           "x": 0.05
          },
          "xaxis": {
           "automargin": true,
           "gridcolor": "white",
           "linecolor": "white",
           "ticks": "",
           "title": {
            "standoff": 15
           },
           "zerolinecolor": "white",
           "zerolinewidth": 2
          },
          "yaxis": {
           "automargin": true,
           "gridcolor": "white",
           "linecolor": "white",
           "ticks": "",
           "title": {
            "standoff": 15
           },
           "zerolinecolor": "white",
           "zerolinewidth": 2
          }
         }
        },
        "title": {
         "text": "Visualisation 3D des attributs de 3 espèces de manchot"
        }
       }
      }
     },
     "metadata": {},
     "output_type": "display_data"
    }
   ],
   "source": [
    "fig = px.scatter_3d(penguins, x = \"bill_length_mm\", y =\"flipper_length_mm\", z =\"body_mass_g\", color=\"species\", title=\"Visualisation 3D des attributs de 3 espèces de manchot\",\n",
    "                labels = {\"flipper_length_mm\" : \"longueur des ailes (mm)\", \"body_mass_g\":\"masse corporelle (g)\", \"bill_length_mm\" : \"longueur du bec(mm)\"}, symbol = \"sex\", hover_name = \"species\", hover_data =[\"island\"])\n",
    "# à compléter\n",
    "fig.show()"
   ]
  },
  {
   "cell_type": "code",
   "execution_count": null,
   "metadata": {},
   "outputs": [],
   "source": []
  }
 ],
 "metadata": {
  "kernelspec": {
   "display_name": "ihm",
   "language": "python",
   "name": "python3"
  },
  "language_info": {
   "codemirror_mode": {
    "name": "ipython",
    "version": 3
   },
   "file_extension": ".py",
   "mimetype": "text/x-python",
   "name": "python",
   "nbconvert_exporter": "python",
   "pygments_lexer": "ipython3",
   "version": "3.9.6"
  }
 },
 "nbformat": 4,
 "nbformat_minor": 2
}
